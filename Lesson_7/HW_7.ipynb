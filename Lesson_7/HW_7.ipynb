{
 "cells": [
  {
   "cell_type": "markdown",
   "metadata": {},
   "source": [
    "### Урок 7. Тюнинг гиперпараметров, построение ансамблей алгоритмов."
   ]
  },
  {
   "cell_type": "markdown",
   "metadata": {},
   "source": [
    "### -- Автор: Шенк Евгений Станиславович"
   ]
  },
  {
   "cell_type": "markdown",
   "metadata": {},
   "source": [
    "### Домашнее задание 7:\n",
    "Чтобы было больше времени на выполнение курсовой работы, задание выполнить на наборе данных для соревнования:  \n",
    "\n",
    "Тестовая выборка - это выборка для применения модели и загрузки на ЛБ.  \n",
    "\n",
    "1. Обучить алгоритмы LightGBM и XGBoost, получить OOF прогнозы, оценить корреляцию прогнозов на обучающей выборке.   Применить модели на тестовую выборку и оценить корреляцию.  \n",
    "2. Усреднить прогнозы с помощью арифмитического среднего, геометрического среднего и усреднить ранги, сделать выводы о качестве отдельных моделей и о качестве комбинации.  \n",
    "3. Обучить CatBoost, получить OOF прогнозы и выполнить задание 1 для трех моделей.  \n",
    "4. Выполнить задание 2 для трех моделей.  \n",
    "5. (опция) Объединить OOF-прогнозы для трех моделей и обучить алгоритм Логистической регрессии (и любой другой, на ваше усмотрение). Сделать выводы о достигаемом качестве, сравнить достигаемое качество с качеством отдельных моделей и моделей, полученных в п.2 и п.4.  \n",
    "6. (опция) Обучить алгоритмRandomForest (желательно подтюнить параметры) и добавить к построенным ранее моделям. Выполнить задание 5.  "
   ]
  },
  {
   "cell_type": "code",
   "execution_count": 1,
   "metadata": {},
   "outputs": [],
   "source": [
    "import numpy as np\n",
    "import pandas as pd\n",
    "import lightgbm as lgb\n",
    "import xgboost as xgb\n",
    "import catboost as cat\n",
    "from sklearn.ensemble import RandomForestClassifier\n",
    "import matplotlib.pyplot as plt\n",
    "import seaborn as sns\n",
    "from typing import List, Tuple, Optional\n",
    "import os\n",
    "\n",
    "from sklearn.linear_model import LogisticRegression\n",
    "from sklearn.model_selection import KFold, StratifiedKFold, GroupKFold, train_test_split, cross_val_score, GroupShuffleSplit\n",
    "from sklearn.metrics import roc_auc_score\n",
    "from sklearn.preprocessing import OrdinalEncoder\n",
    "from scipy.stats import gmean, rankdata\n",
    "\n",
    "# from src.utils import show_feature_importances\n",
    "\n",
    "import warnings\n",
    "warnings.filterwarnings('ignore')\n",
    "\n",
    "%matplotlib inline"
   ]
  },
  {
   "cell_type": "code",
   "execution_count": 2,
   "metadata": {},
   "outputs": [],
   "source": [
    "pd.options.display.max_columns = 400"
   ]
  },
  {
   "cell_type": "markdown",
   "metadata": {},
   "source": [
    "### Загрузка датасета"
   ]
  },
  {
   "cell_type": "code",
   "execution_count": 3,
   "metadata": {
    "scrolled": true
   },
   "outputs": [
    {
     "name": "stdout",
     "output_type": "stream",
     "text": [
      "train_data.shape = 110093 rows, 3 cols\n",
      "test_data.shape = 165141 rows, 2 cols\n",
      "payments_data.shape = 1023932 rows, 8 cols\n",
      "client_profile_data.shape = 250000 rows, 24 cols\n",
      "bki_data.shape = 945234 rows, 17 cols\n",
      "applications_history_data.shape = 1670214 rows, 26 cols\n"
     ]
    }
   ],
   "source": [
    "data_path='../_Course work/data/'\n",
    "\n",
    "train_data = pd.read_csv(os.path.join(data_path, \"train.csv\"))\n",
    "test_data = pd.read_csv(os.path.join(data_path, \"test.csv\"))\n",
    "payments_data = pd.read_csv(os.path.join(data_path, \"payments.csv\"))\n",
    "client_profile_data = pd.read_csv(os.path.join(data_path, \"client_profile.csv\"))\n",
    "bki_data = pd.read_csv(os.path.join(data_path, \"bki.csv\"))\n",
    "applications_history_data = pd.read_csv(os.path.join(data_path, \"applications_history.csv\"))\n",
    "\n",
    "print(\"train_data.shape = {} rows, {} cols\".format(*train_data.shape))\n",
    "print(\"test_data.shape = {} rows, {} cols\".format(*test_data.shape))\n",
    "print(\"payments_data.shape = {} rows, {} cols\".format(*payments_data.shape))\n",
    "print(\"client_profile_data.shape = {} rows, {} cols\".format(*client_profile_data.shape))\n",
    "print(\"bki_data.shape = {} rows, {} cols\".format(*bki_data.shape))\n",
    "print(\"applications_history_data.shape = {} rows, {} cols\".format(*applications_history_data.shape))"
   ]
  },
  {
   "cell_type": "markdown",
   "metadata": {},
   "source": [
    "### Dataset"
   ]
  },
  {
   "cell_type": "code",
   "execution_count": 4,
   "metadata": {},
   "outputs": [],
   "source": [
    "dataset = train_data.merge(client_profile_data, how='left', on='APPLICATION_NUMBER')\n",
    "test_dataset = test_data.merge(client_profile_data, how='left', on='APPLICATION_NUMBER')"
   ]
  },
  {
   "cell_type": "markdown",
   "metadata": {},
   "source": [
    "#### Categorical"
   ]
  },
  {
   "cell_type": "code",
   "execution_count": 5,
   "metadata": {},
   "outputs": [],
   "source": [
    "LE_list = ['NAME_CONTRACT_TYPE']"
   ]
  },
  {
   "cell_type": "code",
   "execution_count": 6,
   "metadata": {},
   "outputs": [],
   "source": [
    "for col in LE_list:\n",
    "    Ordinal_enc = OrdinalEncoder()\n",
    "    Ordinal_enc.fit(dataset[[col]])\n",
    "    dataset[col] = Ordinal_enc.transform(dataset[[col]])\n",
    "    test_dataset[col] = Ordinal_enc.transform(test_dataset[[col]])"
   ]
  },
  {
   "cell_type": "code",
   "execution_count": 7,
   "metadata": {},
   "outputs": [],
   "source": [
    "dataset = pd.get_dummies(dataset, dummy_na=True)\n",
    "test_dataset = pd.get_dummies(test_dataset, dummy_na=True)"
   ]
  },
  {
   "cell_type": "code",
   "execution_count": 8,
   "metadata": {
    "scrolled": false
   },
   "outputs": [
    {
     "data": {
      "text/html": [
       "<div>\n",
       "<style scoped>\n",
       "    .dataframe tbody tr th:only-of-type {\n",
       "        vertical-align: middle;\n",
       "    }\n",
       "\n",
       "    .dataframe tbody tr th {\n",
       "        vertical-align: top;\n",
       "    }\n",
       "\n",
       "    .dataframe thead th {\n",
       "        text-align: right;\n",
       "    }\n",
       "</style>\n",
       "<table border=\"1\" class=\"dataframe\">\n",
       "  <thead>\n",
       "    <tr style=\"text-align: right;\">\n",
       "      <th></th>\n",
       "      <th>APPLICATION_NUMBER</th>\n",
       "      <th>TARGET</th>\n",
       "      <th>NAME_CONTRACT_TYPE</th>\n",
       "      <th>CHILDRENS</th>\n",
       "      <th>TOTAL_SALARY</th>\n",
       "      <th>AMOUNT_CREDIT</th>\n",
       "      <th>AMOUNT_ANNUITY</th>\n",
       "      <th>REGION_POPULATION</th>\n",
       "      <th>AGE</th>\n",
       "      <th>DAYS_ON_LAST_JOB</th>\n",
       "      <th>OWN_CAR_AGE</th>\n",
       "      <th>FLAG_PHONE</th>\n",
       "      <th>FLAG_EMAIL</th>\n",
       "      <th>FAMILY_SIZE</th>\n",
       "      <th>EXTERNAL_SCORING_RATING_1</th>\n",
       "      <th>EXTERNAL_SCORING_RATING_2</th>\n",
       "      <th>EXTERNAL_SCORING_RATING_3</th>\n",
       "      <th>AMT_REQ_CREDIT_BUREAU_HOUR</th>\n",
       "      <th>AMT_REQ_CREDIT_BUREAU_DAY</th>\n",
       "      <th>AMT_REQ_CREDIT_BUREAU_WEEK</th>\n",
       "      <th>AMT_REQ_CREDIT_BUREAU_MON</th>\n",
       "      <th>AMT_REQ_CREDIT_BUREAU_QRT</th>\n",
       "      <th>AMT_REQ_CREDIT_BUREAU_YEAR</th>\n",
       "      <th>GENDER_F</th>\n",
       "      <th>GENDER_M</th>\n",
       "      <th>GENDER_XNA</th>\n",
       "      <th>GENDER_nan</th>\n",
       "      <th>EDUCATION_LEVEL_Academic degree</th>\n",
       "      <th>EDUCATION_LEVEL_Higher education</th>\n",
       "      <th>EDUCATION_LEVEL_Incomplete higher</th>\n",
       "      <th>EDUCATION_LEVEL_Lower secondary</th>\n",
       "      <th>EDUCATION_LEVEL_Secondary / secondary special</th>\n",
       "      <th>EDUCATION_LEVEL_nan</th>\n",
       "      <th>FAMILY_STATUS_Civil marriage</th>\n",
       "      <th>FAMILY_STATUS_Married</th>\n",
       "      <th>FAMILY_STATUS_Separated</th>\n",
       "      <th>FAMILY_STATUS_Single / not married</th>\n",
       "      <th>FAMILY_STATUS_Unknown</th>\n",
       "      <th>FAMILY_STATUS_Widow</th>\n",
       "      <th>FAMILY_STATUS_nan</th>\n",
       "    </tr>\n",
       "  </thead>\n",
       "  <tbody>\n",
       "    <tr>\n",
       "      <th>0</th>\n",
       "      <td>123687442</td>\n",
       "      <td>0</td>\n",
       "      <td>0.0</td>\n",
       "      <td>1.0</td>\n",
       "      <td>157500.0</td>\n",
       "      <td>855000.0</td>\n",
       "      <td>25128.0</td>\n",
       "      <td>0.019101</td>\n",
       "      <td>15728.0</td>\n",
       "      <td>1719.0</td>\n",
       "      <td>11.0</td>\n",
       "      <td>0.0</td>\n",
       "      <td>0.0</td>\n",
       "      <td>3.0</td>\n",
       "      <td>0.700784</td>\n",
       "      <td>0.645914</td>\n",
       "      <td>0.716570</td>\n",
       "      <td>0.0</td>\n",
       "      <td>0.0</td>\n",
       "      <td>1.0</td>\n",
       "      <td>0.0</td>\n",
       "      <td>0.0</td>\n",
       "      <td>2.0</td>\n",
       "      <td>0</td>\n",
       "      <td>1</td>\n",
       "      <td>0</td>\n",
       "      <td>0</td>\n",
       "      <td>0</td>\n",
       "      <td>0</td>\n",
       "      <td>0</td>\n",
       "      <td>0</td>\n",
       "      <td>1</td>\n",
       "      <td>0</td>\n",
       "      <td>0</td>\n",
       "      <td>1</td>\n",
       "      <td>0</td>\n",
       "      <td>0</td>\n",
       "      <td>0</td>\n",
       "      <td>0</td>\n",
       "      <td>0</td>\n",
       "    </tr>\n",
       "    <tr>\n",
       "      <th>1</th>\n",
       "      <td>123597908</td>\n",
       "      <td>1</td>\n",
       "      <td>0.0</td>\n",
       "      <td>NaN</td>\n",
       "      <td>NaN</td>\n",
       "      <td>NaN</td>\n",
       "      <td>NaN</td>\n",
       "      <td>NaN</td>\n",
       "      <td>NaN</td>\n",
       "      <td>NaN</td>\n",
       "      <td>NaN</td>\n",
       "      <td>NaN</td>\n",
       "      <td>NaN</td>\n",
       "      <td>NaN</td>\n",
       "      <td>NaN</td>\n",
       "      <td>NaN</td>\n",
       "      <td>NaN</td>\n",
       "      <td>NaN</td>\n",
       "      <td>NaN</td>\n",
       "      <td>NaN</td>\n",
       "      <td>NaN</td>\n",
       "      <td>NaN</td>\n",
       "      <td>NaN</td>\n",
       "      <td>0</td>\n",
       "      <td>0</td>\n",
       "      <td>0</td>\n",
       "      <td>1</td>\n",
       "      <td>0</td>\n",
       "      <td>0</td>\n",
       "      <td>0</td>\n",
       "      <td>0</td>\n",
       "      <td>0</td>\n",
       "      <td>1</td>\n",
       "      <td>0</td>\n",
       "      <td>0</td>\n",
       "      <td>0</td>\n",
       "      <td>0</td>\n",
       "      <td>0</td>\n",
       "      <td>0</td>\n",
       "      <td>1</td>\n",
       "    </tr>\n",
       "    <tr>\n",
       "      <th>2</th>\n",
       "      <td>123526683</td>\n",
       "      <td>0</td>\n",
       "      <td>0.0</td>\n",
       "      <td>0.0</td>\n",
       "      <td>135000.0</td>\n",
       "      <td>1006920.0</td>\n",
       "      <td>42660.0</td>\n",
       "      <td>0.026392</td>\n",
       "      <td>21557.0</td>\n",
       "      <td>3618.0</td>\n",
       "      <td>NaN</td>\n",
       "      <td>1.0</td>\n",
       "      <td>0.0</td>\n",
       "      <td>2.0</td>\n",
       "      <td>NaN</td>\n",
       "      <td>0.682149</td>\n",
       "      <td>0.267869</td>\n",
       "      <td>0.0</td>\n",
       "      <td>0.0</td>\n",
       "      <td>0.0</td>\n",
       "      <td>7.0</td>\n",
       "      <td>0.0</td>\n",
       "      <td>4.0</td>\n",
       "      <td>1</td>\n",
       "      <td>0</td>\n",
       "      <td>0</td>\n",
       "      <td>0</td>\n",
       "      <td>0</td>\n",
       "      <td>1</td>\n",
       "      <td>0</td>\n",
       "      <td>0</td>\n",
       "      <td>0</td>\n",
       "      <td>0</td>\n",
       "      <td>0</td>\n",
       "      <td>1</td>\n",
       "      <td>0</td>\n",
       "      <td>0</td>\n",
       "      <td>0</td>\n",
       "      <td>0</td>\n",
       "      <td>0</td>\n",
       "    </tr>\n",
       "  </tbody>\n",
       "</table>\n",
       "</div>"
      ],
      "text/plain": [
       "   APPLICATION_NUMBER  TARGET  NAME_CONTRACT_TYPE  CHILDRENS  TOTAL_SALARY  \\\n",
       "0           123687442       0                 0.0        1.0      157500.0   \n",
       "1           123597908       1                 0.0        NaN           NaN   \n",
       "2           123526683       0                 0.0        0.0      135000.0   \n",
       "\n",
       "   AMOUNT_CREDIT  AMOUNT_ANNUITY  REGION_POPULATION      AGE  \\\n",
       "0       855000.0         25128.0           0.019101  15728.0   \n",
       "1            NaN             NaN                NaN      NaN   \n",
       "2      1006920.0         42660.0           0.026392  21557.0   \n",
       "\n",
       "   DAYS_ON_LAST_JOB  OWN_CAR_AGE  FLAG_PHONE  FLAG_EMAIL  FAMILY_SIZE  \\\n",
       "0            1719.0         11.0         0.0         0.0          3.0   \n",
       "1               NaN          NaN         NaN         NaN          NaN   \n",
       "2            3618.0          NaN         1.0         0.0          2.0   \n",
       "\n",
       "   EXTERNAL_SCORING_RATING_1  EXTERNAL_SCORING_RATING_2  \\\n",
       "0                   0.700784                   0.645914   \n",
       "1                        NaN                        NaN   \n",
       "2                        NaN                   0.682149   \n",
       "\n",
       "   EXTERNAL_SCORING_RATING_3  AMT_REQ_CREDIT_BUREAU_HOUR  \\\n",
       "0                   0.716570                         0.0   \n",
       "1                        NaN                         NaN   \n",
       "2                   0.267869                         0.0   \n",
       "\n",
       "   AMT_REQ_CREDIT_BUREAU_DAY  AMT_REQ_CREDIT_BUREAU_WEEK  \\\n",
       "0                        0.0                         1.0   \n",
       "1                        NaN                         NaN   \n",
       "2                        0.0                         0.0   \n",
       "\n",
       "   AMT_REQ_CREDIT_BUREAU_MON  AMT_REQ_CREDIT_BUREAU_QRT  \\\n",
       "0                        0.0                        0.0   \n",
       "1                        NaN                        NaN   \n",
       "2                        7.0                        0.0   \n",
       "\n",
       "   AMT_REQ_CREDIT_BUREAU_YEAR  GENDER_F  GENDER_M  GENDER_XNA  GENDER_nan  \\\n",
       "0                         2.0         0         1           0           0   \n",
       "1                         NaN         0         0           0           1   \n",
       "2                         4.0         1         0           0           0   \n",
       "\n",
       "   EDUCATION_LEVEL_Academic degree  EDUCATION_LEVEL_Higher education  \\\n",
       "0                                0                                 0   \n",
       "1                                0                                 0   \n",
       "2                                0                                 1   \n",
       "\n",
       "   EDUCATION_LEVEL_Incomplete higher  EDUCATION_LEVEL_Lower secondary  \\\n",
       "0                                  0                                0   \n",
       "1                                  0                                0   \n",
       "2                                  0                                0   \n",
       "\n",
       "   EDUCATION_LEVEL_Secondary / secondary special  EDUCATION_LEVEL_nan  \\\n",
       "0                                              1                    0   \n",
       "1                                              0                    1   \n",
       "2                                              0                    0   \n",
       "\n",
       "   FAMILY_STATUS_Civil marriage  FAMILY_STATUS_Married  \\\n",
       "0                             0                      1   \n",
       "1                             0                      0   \n",
       "2                             0                      1   \n",
       "\n",
       "   FAMILY_STATUS_Separated  FAMILY_STATUS_Single / not married  \\\n",
       "0                        0                                   0   \n",
       "1                        0                                   0   \n",
       "2                        0                                   0   \n",
       "\n",
       "   FAMILY_STATUS_Unknown  FAMILY_STATUS_Widow  FAMILY_STATUS_nan  \n",
       "0                      0                    0                  0  \n",
       "1                      0                    0                  1  \n",
       "2                      0                    0                  0  "
      ]
     },
     "execution_count": 8,
     "metadata": {},
     "output_type": "execute_result"
    }
   ],
   "source": [
    "dataset.head(3)"
   ]
  },
  {
   "cell_type": "code",
   "execution_count": 9,
   "metadata": {},
   "outputs": [
    {
     "data": {
      "text/html": [
       "<div>\n",
       "<style scoped>\n",
       "    .dataframe tbody tr th:only-of-type {\n",
       "        vertical-align: middle;\n",
       "    }\n",
       "\n",
       "    .dataframe tbody tr th {\n",
       "        vertical-align: top;\n",
       "    }\n",
       "\n",
       "    .dataframe thead th {\n",
       "        text-align: right;\n",
       "    }\n",
       "</style>\n",
       "<table border=\"1\" class=\"dataframe\">\n",
       "  <thead>\n",
       "    <tr style=\"text-align: right;\">\n",
       "      <th></th>\n",
       "      <th>APPLICATION_NUMBER</th>\n",
       "      <th>NAME_CONTRACT_TYPE</th>\n",
       "      <th>CHILDRENS</th>\n",
       "      <th>TOTAL_SALARY</th>\n",
       "      <th>AMOUNT_CREDIT</th>\n",
       "      <th>AMOUNT_ANNUITY</th>\n",
       "      <th>REGION_POPULATION</th>\n",
       "      <th>AGE</th>\n",
       "      <th>DAYS_ON_LAST_JOB</th>\n",
       "      <th>OWN_CAR_AGE</th>\n",
       "      <th>FLAG_PHONE</th>\n",
       "      <th>FLAG_EMAIL</th>\n",
       "      <th>FAMILY_SIZE</th>\n",
       "      <th>EXTERNAL_SCORING_RATING_1</th>\n",
       "      <th>EXTERNAL_SCORING_RATING_2</th>\n",
       "      <th>EXTERNAL_SCORING_RATING_3</th>\n",
       "      <th>AMT_REQ_CREDIT_BUREAU_HOUR</th>\n",
       "      <th>AMT_REQ_CREDIT_BUREAU_DAY</th>\n",
       "      <th>AMT_REQ_CREDIT_BUREAU_WEEK</th>\n",
       "      <th>AMT_REQ_CREDIT_BUREAU_MON</th>\n",
       "      <th>AMT_REQ_CREDIT_BUREAU_QRT</th>\n",
       "      <th>AMT_REQ_CREDIT_BUREAU_YEAR</th>\n",
       "      <th>GENDER_F</th>\n",
       "      <th>GENDER_M</th>\n",
       "      <th>GENDER_XNA</th>\n",
       "      <th>GENDER_nan</th>\n",
       "      <th>EDUCATION_LEVEL_Academic degree</th>\n",
       "      <th>EDUCATION_LEVEL_Higher education</th>\n",
       "      <th>EDUCATION_LEVEL_Incomplete higher</th>\n",
       "      <th>EDUCATION_LEVEL_Lower secondary</th>\n",
       "      <th>EDUCATION_LEVEL_Secondary / secondary special</th>\n",
       "      <th>EDUCATION_LEVEL_nan</th>\n",
       "      <th>FAMILY_STATUS_Civil marriage</th>\n",
       "      <th>FAMILY_STATUS_Married</th>\n",
       "      <th>FAMILY_STATUS_Separated</th>\n",
       "      <th>FAMILY_STATUS_Single / not married</th>\n",
       "      <th>FAMILY_STATUS_Unknown</th>\n",
       "      <th>FAMILY_STATUS_Widow</th>\n",
       "      <th>FAMILY_STATUS_nan</th>\n",
       "    </tr>\n",
       "  </thead>\n",
       "  <tbody>\n",
       "    <tr>\n",
       "      <th>0</th>\n",
       "      <td>123724268</td>\n",
       "      <td>0.0</td>\n",
       "      <td>0.0</td>\n",
       "      <td>117000.0</td>\n",
       "      <td>1125000.0</td>\n",
       "      <td>32895.0</td>\n",
       "      <td>0.028663</td>\n",
       "      <td>16007.0</td>\n",
       "      <td>2646.0</td>\n",
       "      <td>20.0</td>\n",
       "      <td>0.0</td>\n",
       "      <td>0.0</td>\n",
       "      <td>2.0</td>\n",
       "      <td>NaN</td>\n",
       "      <td>0.628266</td>\n",
       "      <td>NaN</td>\n",
       "      <td>0.0</td>\n",
       "      <td>0.0</td>\n",
       "      <td>0.0</td>\n",
       "      <td>0.0</td>\n",
       "      <td>1.0</td>\n",
       "      <td>4.0</td>\n",
       "      <td>0</td>\n",
       "      <td>1</td>\n",
       "      <td>0</td>\n",
       "      <td>0</td>\n",
       "      <td>0</td>\n",
       "      <td>0</td>\n",
       "      <td>0</td>\n",
       "      <td>0</td>\n",
       "      <td>1</td>\n",
       "      <td>0</td>\n",
       "      <td>0</td>\n",
       "      <td>1</td>\n",
       "      <td>0</td>\n",
       "      <td>0</td>\n",
       "      <td>0</td>\n",
       "      <td>0</td>\n",
       "      <td>0</td>\n",
       "    </tr>\n",
       "    <tr>\n",
       "      <th>1</th>\n",
       "      <td>123456549</td>\n",
       "      <td>0.0</td>\n",
       "      <td>2.0</td>\n",
       "      <td>81000.0</td>\n",
       "      <td>312768.0</td>\n",
       "      <td>17095.5</td>\n",
       "      <td>0.019689</td>\n",
       "      <td>10315.0</td>\n",
       "      <td>459.0</td>\n",
       "      <td>NaN</td>\n",
       "      <td>0.0</td>\n",
       "      <td>0.0</td>\n",
       "      <td>4.0</td>\n",
       "      <td>NaN</td>\n",
       "      <td>0.578161</td>\n",
       "      <td>0.188490</td>\n",
       "      <td>0.0</td>\n",
       "      <td>0.0</td>\n",
       "      <td>1.0</td>\n",
       "      <td>0.0</td>\n",
       "      <td>0.0</td>\n",
       "      <td>2.0</td>\n",
       "      <td>1</td>\n",
       "      <td>0</td>\n",
       "      <td>0</td>\n",
       "      <td>0</td>\n",
       "      <td>0</td>\n",
       "      <td>0</td>\n",
       "      <td>0</td>\n",
       "      <td>0</td>\n",
       "      <td>1</td>\n",
       "      <td>0</td>\n",
       "      <td>0</td>\n",
       "      <td>1</td>\n",
       "      <td>0</td>\n",
       "      <td>0</td>\n",
       "      <td>0</td>\n",
       "      <td>0</td>\n",
       "      <td>0</td>\n",
       "    </tr>\n",
       "    <tr>\n",
       "      <th>2</th>\n",
       "      <td>123428178</td>\n",
       "      <td>1.0</td>\n",
       "      <td>2.0</td>\n",
       "      <td>157500.0</td>\n",
       "      <td>450000.0</td>\n",
       "      <td>22500.0</td>\n",
       "      <td>0.019101</td>\n",
       "      <td>13016.0</td>\n",
       "      <td>977.0</td>\n",
       "      <td>NaN</td>\n",
       "      <td>1.0</td>\n",
       "      <td>0.0</td>\n",
       "      <td>4.0</td>\n",
       "      <td>NaN</td>\n",
       "      <td>0.152544</td>\n",
       "      <td>0.382502</td>\n",
       "      <td>0.0</td>\n",
       "      <td>0.0</td>\n",
       "      <td>0.0</td>\n",
       "      <td>0.0</td>\n",
       "      <td>1.0</td>\n",
       "      <td>6.0</td>\n",
       "      <td>1</td>\n",
       "      <td>0</td>\n",
       "      <td>0</td>\n",
       "      <td>0</td>\n",
       "      <td>0</td>\n",
       "      <td>0</td>\n",
       "      <td>0</td>\n",
       "      <td>0</td>\n",
       "      <td>1</td>\n",
       "      <td>0</td>\n",
       "      <td>0</td>\n",
       "      <td>1</td>\n",
       "      <td>0</td>\n",
       "      <td>0</td>\n",
       "      <td>0</td>\n",
       "      <td>0</td>\n",
       "      <td>0</td>\n",
       "    </tr>\n",
       "  </tbody>\n",
       "</table>\n",
       "</div>"
      ],
      "text/plain": [
       "   APPLICATION_NUMBER  NAME_CONTRACT_TYPE  CHILDRENS  TOTAL_SALARY  \\\n",
       "0           123724268                 0.0        0.0      117000.0   \n",
       "1           123456549                 0.0        2.0       81000.0   \n",
       "2           123428178                 1.0        2.0      157500.0   \n",
       "\n",
       "   AMOUNT_CREDIT  AMOUNT_ANNUITY  REGION_POPULATION      AGE  \\\n",
       "0      1125000.0         32895.0           0.028663  16007.0   \n",
       "1       312768.0         17095.5           0.019689  10315.0   \n",
       "2       450000.0         22500.0           0.019101  13016.0   \n",
       "\n",
       "   DAYS_ON_LAST_JOB  OWN_CAR_AGE  FLAG_PHONE  FLAG_EMAIL  FAMILY_SIZE  \\\n",
       "0            2646.0         20.0         0.0         0.0          2.0   \n",
       "1             459.0          NaN         0.0         0.0          4.0   \n",
       "2             977.0          NaN         1.0         0.0          4.0   \n",
       "\n",
       "   EXTERNAL_SCORING_RATING_1  EXTERNAL_SCORING_RATING_2  \\\n",
       "0                        NaN                   0.628266   \n",
       "1                        NaN                   0.578161   \n",
       "2                        NaN                   0.152544   \n",
       "\n",
       "   EXTERNAL_SCORING_RATING_3  AMT_REQ_CREDIT_BUREAU_HOUR  \\\n",
       "0                        NaN                         0.0   \n",
       "1                   0.188490                         0.0   \n",
       "2                   0.382502                         0.0   \n",
       "\n",
       "   AMT_REQ_CREDIT_BUREAU_DAY  AMT_REQ_CREDIT_BUREAU_WEEK  \\\n",
       "0                        0.0                         0.0   \n",
       "1                        0.0                         1.0   \n",
       "2                        0.0                         0.0   \n",
       "\n",
       "   AMT_REQ_CREDIT_BUREAU_MON  AMT_REQ_CREDIT_BUREAU_QRT  \\\n",
       "0                        0.0                        1.0   \n",
       "1                        0.0                        0.0   \n",
       "2                        0.0                        1.0   \n",
       "\n",
       "   AMT_REQ_CREDIT_BUREAU_YEAR  GENDER_F  GENDER_M  GENDER_XNA  GENDER_nan  \\\n",
       "0                         4.0         0         1           0           0   \n",
       "1                         2.0         1         0           0           0   \n",
       "2                         6.0         1         0           0           0   \n",
       "\n",
       "   EDUCATION_LEVEL_Academic degree  EDUCATION_LEVEL_Higher education  \\\n",
       "0                                0                                 0   \n",
       "1                                0                                 0   \n",
       "2                                0                                 0   \n",
       "\n",
       "   EDUCATION_LEVEL_Incomplete higher  EDUCATION_LEVEL_Lower secondary  \\\n",
       "0                                  0                                0   \n",
       "1                                  0                                0   \n",
       "2                                  0                                0   \n",
       "\n",
       "   EDUCATION_LEVEL_Secondary / secondary special  EDUCATION_LEVEL_nan  \\\n",
       "0                                              1                    0   \n",
       "1                                              1                    0   \n",
       "2                                              1                    0   \n",
       "\n",
       "   FAMILY_STATUS_Civil marriage  FAMILY_STATUS_Married  \\\n",
       "0                             0                      1   \n",
       "1                             0                      1   \n",
       "2                             0                      1   \n",
       "\n",
       "   FAMILY_STATUS_Separated  FAMILY_STATUS_Single / not married  \\\n",
       "0                        0                                   0   \n",
       "1                        0                                   0   \n",
       "2                        0                                   0   \n",
       "\n",
       "   FAMILY_STATUS_Unknown  FAMILY_STATUS_Widow  FAMILY_STATUS_nan  \n",
       "0                      0                    0                  0  \n",
       "1                      0                    0                  0  \n",
       "2                      0                    0                  0  "
      ]
     },
     "execution_count": 9,
     "metadata": {},
     "output_type": "execute_result"
    }
   ],
   "source": [
    "test_dataset.head(3)"
   ]
  },
  {
   "cell_type": "code",
   "execution_count": 10,
   "metadata": {},
   "outputs": [],
   "source": [
    "numerical_features = dataset.drop(['APPLICATION_NUMBER', 'TARGET'], axis=1).select_dtypes(include=[np.number]).columns\n",
    "target = ['TARGET']"
   ]
  },
  {
   "cell_type": "code",
   "execution_count": 11,
   "metadata": {},
   "outputs": [],
   "source": [
    "def do_train_test_split(data: pd.DataFrame, target: list, features: list):\n",
    "    x_train, x_valid = train_test_split(\n",
    "        data.drop(target, axis=1), train_size=0.7, shuffle=True, random_state=2177\n",
    "    )\n",
    "    y_train, y_valid = train_test_split(\n",
    "        data[target], train_size=0.7, shuffle=True, random_state=2177\n",
    "    )\n",
    "\n",
    "    x_train = x_train[features]\n",
    "    x_valid = x_valid[features]\n",
    "\n",
    "    x_valid, x_test = train_test_split(\n",
    "        x_valid, train_size=0.6, shuffle=True, random_state=2177\n",
    "    )\n",
    "    y_valid, y_test = train_test_split(\n",
    "        y_valid, train_size=0.6, shuffle=True, random_state=2177\n",
    "    )\n",
    "\n",
    "    print(\"x_train.shape = {} rows, {} cols\".format(*x_train.shape))\n",
    "    print(\"x_valid.shape = {} rows, {} cols\".format(*x_valid.shape))\n",
    "    print(\"x_test.shape = {} rows, {} cols\".format(*x_test.shape))\n",
    "    \n",
    "    return x_train, x_valid, x_test, y_train, y_valid, y_test"
   ]
  },
  {
   "cell_type": "code",
   "execution_count": 12,
   "metadata": {},
   "outputs": [],
   "source": [
    "def make_cross_validation(X: pd.DataFrame,\n",
    "                          y: pd.Series,\n",
    "                          estimator: object,\n",
    "                          params: dict,\n",
    "                          metric: callable,\n",
    "                          cv_strategy):\n",
    "    \"\"\"\n",
    "    Кросс-валидация.\n",
    "\n",
    "    Parameters\n",
    "    ----------\n",
    "    X: pd.DataFrame\n",
    "        Матрица признаков.\n",
    "\n",
    "    y: pd.Series\n",
    "        Вектор целевой переменной.\n",
    "\n",
    "    estimator: callable\n",
    "        Объект модели для обучения.\n",
    "        \n",
    "    paprams: dict\n",
    "        Параметры модели\n",
    "\n",
    "    metric: callable\n",
    "        Метрика для оценки качества решения.\n",
    "        Ожидается, что на вход будет передана функция,\n",
    "        которая принимает 2 аргумента: y_true, y_pred.\n",
    "\n",
    "    cv_strategy: cross-validation generator\n",
    "        Объект для описания стратегии кросс-валидации.\n",
    "        Ожидается, что на вход будет передан объект типа\n",
    "        KFold или StratifiedKFold.\n",
    "\n",
    "    Returns\n",
    "    -------\n",
    "    oof_score: float\n",
    "        Значение метрики качества на OOF-прогнозах.\n",
    "\n",
    "    fold_train_scores: List[float]\n",
    "        Значение метрики качества на каждом обучающем датасете кросс-валидации.\n",
    "\n",
    "    fold_valid_scores: List[float]\n",
    "        Значение метрики качества на каждом валидационном датасете кросс-валидации.\n",
    "\n",
    "    oof_predictions: np.array\n",
    "        Прогнозы на OOF.\n",
    "\n",
    "    \"\"\"\n",
    "    estimators, fold_train_scores, fold_valid_scores = [], [], []\n",
    "    oof_predictions = np.zeros(X.shape[0])\n",
    "    X = X.reindex()\n",
    "    y = y.reindex()\n",
    "\n",
    "    for fold_number, (train_idx, valid_idx) in enumerate(cv_strategy.split(X, y)):\n",
    "        x_train, x_valid = X.iloc[train_idx], X.iloc[valid_idx]\n",
    "        y_train, y_valid = y.iloc[train_idx], y.iloc[valid_idx]\n",
    "\n",
    "        estimator.fit(x_train, y_train, \n",
    "                      eval_set=(x_valid, y_valid),\n",
    "                      **params)\n",
    "        y_train_pred = estimator.predict_proba(x_train)[:,1]\n",
    "        y_valid_pred = estimator.predict_proba(x_valid)[:,1]\n",
    "\n",
    "        fold_train_scores.append(metric(y_train, y_train_pred))\n",
    "        fold_valid_scores.append(metric(y_valid, y_valid_pred))\n",
    "        oof_predictions[valid_idx] = y_valid_pred\n",
    "\n",
    "        msg = (\n",
    "            f\"Fold: {fold_number+1}, train-observations = {len(train_idx)}, \"\n",
    "            f\"valid-observations = {len(valid_idx)}\\n\"\n",
    "            f\"train-score = {round(fold_train_scores[fold_number], 4)}, \"\n",
    "            f\"valid-score = {round(fold_valid_scores[fold_number], 4)}\" \n",
    "        )\n",
    "        print(msg)\n",
    "        print(\"=\"*69)\n",
    "        estimators.append(estimator)\n",
    "\n",
    "    oof_score = metric(y, oof_predictions)\n",
    "    print(f\"CV-results train: {round(np.mean(fold_train_scores), 4)} +/- {round(np.std(fold_train_scores), 3)}\")\n",
    "    print(f\"CV-results valid: {round(np.mean(fold_valid_scores), 4)} +/- {round(np.std(fold_valid_scores), 3)}\")\n",
    "    print(f\"OOF-score = {round(oof_score, 4)}\")\n",
    "\n",
    "    return estimators, oof_score, fold_train_scores, fold_valid_scores, oof_predictions"
   ]
  },
  {
   "cell_type": "code",
   "execution_count": 13,
   "metadata": {},
   "outputs": [],
   "source": [
    "def make_cross_validation_xgb(X: pd.DataFrame,\n",
    "                              y: pd.Series,\n",
    "                              estimator: object,\n",
    "                              params: dict,\n",
    "                              metric: callable,\n",
    "                              cv_strategy):\n",
    "    \"\"\"\n",
    "    Кросс-валидация.\n",
    "\n",
    "    Parameters\n",
    "    ----------\n",
    "    X: pd.DataFrame\n",
    "        Матрица признаков.\n",
    "\n",
    "    y: pd.Series\n",
    "        Вектор целевой переменной.\n",
    "\n",
    "    estimator: callable\n",
    "        Объект модели для обучения.\n",
    "        \n",
    "    paprams: dict\n",
    "        Параметры модели\n",
    "\n",
    "    metric: callable\n",
    "        Метрика для оценки качества решения.\n",
    "        Ожидается, что на вход будет передана функция,\n",
    "        которая принимает 2 аргумента: y_true, y_pred.\n",
    "\n",
    "    cv_strategy: cross-validation generator\n",
    "        Объект для описания стратегии кросс-валидации.\n",
    "        Ожидается, что на вход будет передан объект типа\n",
    "        KFold или StratifiedKFold.\n",
    "\n",
    "    Returns\n",
    "    -------\n",
    "    oof_score: float\n",
    "        Значение метрики качества на OOF-прогнозах.\n",
    "\n",
    "    fold_train_scores: List[float]\n",
    "        Значение метрики качества на каждом обучающем датасете кросс-валидации.\n",
    "\n",
    "    fold_valid_scores: List[float]\n",
    "        Значение метрики качества на каждом валидационном датасете кросс-валидации.\n",
    "\n",
    "    oof_predictions: np.array\n",
    "        Прогнозы на OOF.\n",
    "\n",
    "    \"\"\"\n",
    "    estimators, fold_train_scores, fold_valid_scores = [], [], []\n",
    "    oof_predictions = np.zeros(X.shape[0])\n",
    "    X = X.reindex()\n",
    "    y = y.reindex()\n",
    "\n",
    "    for fold_number, (train_idx, valid_idx) in enumerate(cv_strategy.split(X, y)):\n",
    "        x_train, x_valid = X.iloc[train_idx], X.iloc[valid_idx]\n",
    "        y_train, y_valid = y.iloc[train_idx], y.iloc[valid_idx]\n",
    "\n",
    "        estimator.fit(x_train, y_train, \n",
    "                      eval_set=[(x_train, y_train), (x_valid, y_valid)],\n",
    "                      **params)\n",
    "        y_train_pred = estimator.predict_proba(x_train)[:,1]\n",
    "        y_valid_pred = estimator.predict_proba(x_valid)[:,1]\n",
    "\n",
    "        fold_train_scores.append(metric(y_train, y_train_pred))\n",
    "        fold_valid_scores.append(metric(y_valid, y_valid_pred))\n",
    "        oof_predictions[valid_idx] = y_valid_pred\n",
    "\n",
    "        msg = (\n",
    "            f\"Fold: {fold_number+1}, train-observations = {len(train_idx)}, \"\n",
    "            f\"valid-observations = {len(valid_idx)}\\n\"\n",
    "            f\"train-score = {round(fold_train_scores[fold_number], 4)}, \"\n",
    "            f\"valid-score = {round(fold_valid_scores[fold_number], 4)}\" \n",
    "        )\n",
    "        print(msg)\n",
    "        print(\"=\"*69)\n",
    "        estimators.append(estimator)\n",
    "\n",
    "    oof_score = metric(y, oof_predictions)\n",
    "    print(f\"CV-results train: {round(np.mean(fold_train_scores), 4)} +/- {round(np.std(fold_train_scores), 3)}\")\n",
    "    print(f\"CV-results valid: {round(np.mean(fold_valid_scores), 4)} +/- {round(np.std(fold_valid_scores), 3)}\")\n",
    "    print(f\"OOF-score = {round(oof_score, 4)}\")\n",
    "\n",
    "    return estimators, oof_score, fold_train_scores, fold_valid_scores, oof_predictions"
   ]
  },
  {
   "cell_type": "code",
   "execution_count": 14,
   "metadata": {},
   "outputs": [],
   "source": [
    "def calc_val_proba_results(estimator: object):\n",
    "    train_score = roc_auc_score(y_train, estimator.predict_proba(x_train)[:,1])\n",
    "    print(f'Train roc_auc_score: {train_score}')\n",
    "    valid_score = roc_auc_score(y_valid, estimator.predict_proba(x_valid)[:,1])\n",
    "    print(f'Valid roc_auc_score: {valid_score}')\n",
    "    test_score = roc_auc_score(y_test, estimator.predict_proba(x_test)[:,1])\n",
    "    print(f'Test roc_auc_score:  {test_score}')\n",
    "    return(train_score, valid_score, test_score)"
   ]
  },
  {
   "cell_type": "markdown",
   "metadata": {},
   "source": [
    "### Задание 1. \n",
    "Обучить алгоритмы LightGBM и XGBoost, получить OOF прогнозы, оценить корреляцию прогнозов на обучающей выборке.   Применить модели на тестовую выборку и оценить корреляцию.  "
   ]
  },
  {
   "cell_type": "code",
   "execution_count": 15,
   "metadata": {},
   "outputs": [
    {
     "name": "stdout",
     "output_type": "stream",
     "text": [
      "x_train.shape = 77065 rows, 38 cols\n",
      "x_valid.shape = 19816 rows, 38 cols\n",
      "x_test.shape = 13212 rows, 38 cols\n"
     ]
    }
   ],
   "source": [
    "x_train, x_valid, x_test, y_train, y_valid, y_test = do_train_test_split(dataset, target, numerical_features)"
   ]
  },
  {
   "cell_type": "markdown",
   "metadata": {},
   "source": [
    "#### LightGBM"
   ]
  },
  {
   "cell_type": "code",
   "execution_count": 16,
   "metadata": {},
   "outputs": [],
   "source": [
    "params = {\n",
    "    \"eval_metric\": \"auc\",\n",
    "    \"verbose\": 50,\n",
    "    \"early_stopping_rounds\": 25,\n",
    "}"
   ]
  },
  {
   "cell_type": "code",
   "execution_count": 17,
   "metadata": {},
   "outputs": [],
   "source": [
    "model_lgb_1 = lgb.LGBMClassifier(n_estimators=150, num_leaves=5, seed=2177)\n",
    "### Model for CV\n",
    "model_cv_lgb_1 = lgb.LGBMClassifier(n_estimators=150, num_leaves=5, seed=2177)"
   ]
  },
  {
   "cell_type": "code",
   "execution_count": 18,
   "metadata": {
    "scrolled": false
   },
   "outputs": [
    {
     "name": "stdout",
     "output_type": "stream",
     "text": [
      "Training until validation scores don't improve for 25 rounds\n",
      "[50]\tvalid_0's auc: 0.723049\tvalid_0's binary_logloss: 0.260281\n",
      "[100]\tvalid_0's auc: 0.725805\tvalid_0's binary_logloss: 0.258763\n",
      "[150]\tvalid_0's auc: 0.727596\tvalid_0's binary_logloss: 0.258283\n",
      "Did not meet early stopping. Best iteration is:\n",
      "[147]\tvalid_0's auc: 0.727742\tvalid_0's binary_logloss: 0.258276\n"
     ]
    },
    {
     "data": {
      "text/plain": [
       "LGBMClassifier(n_estimators=150, num_leaves=5, seed=2177)"
      ]
     },
     "execution_count": 18,
     "metadata": {},
     "output_type": "execute_result"
    }
   ],
   "source": [
    "model_lgb_1.fit(x_train, y_train, \n",
    "                eval_set=(x_valid, y_valid),\n",
    "                **params)"
   ]
  },
  {
   "cell_type": "code",
   "execution_count": 19,
   "metadata": {
    "scrolled": true
   },
   "outputs": [
    {
     "name": "stdout",
     "output_type": "stream",
     "text": [
      "Training until validation scores don't improve for 25 rounds\n",
      "[50]\tvalid_0's auc: 0.708583\tvalid_0's binary_logloss: 0.254844\n",
      "Early stopping, best iteration is:\n",
      "[46]\tvalid_0's auc: 0.709495\tvalid_0's binary_logloss: 0.254987\n",
      "Fold: 1, train-observations = 61652, valid-observations = 15413\n",
      "train-score = 0.7251, valid-score = 0.7095\n",
      "=====================================================================\n",
      "Training until validation scores don't improve for 25 rounds\n",
      "[50]\tvalid_0's auc: 0.714796\tvalid_0's binary_logloss: 0.255373\n",
      "[100]\tvalid_0's auc: 0.718703\tvalid_0's binary_logloss: 0.254225\n",
      "Early stopping, best iteration is:\n",
      "[100]\tvalid_0's auc: 0.718703\tvalid_0's binary_logloss: 0.254225\n",
      "Fold: 2, train-observations = 61652, valid-observations = 15413\n",
      "train-score = 0.7352, valid-score = 0.7187\n",
      "=====================================================================\n",
      "Training until validation scores don't improve for 25 rounds\n",
      "[50]\tvalid_0's auc: 0.716818\tvalid_0's binary_logloss: 0.254638\n",
      "[100]\tvalid_0's auc: 0.720173\tvalid_0's binary_logloss: 0.25329\n",
      "Early stopping, best iteration is:\n",
      "[98]\tvalid_0's auc: 0.720519\tvalid_0's binary_logloss: 0.2533\n",
      "Fold: 3, train-observations = 61652, valid-observations = 15413\n",
      "train-score = 0.7349, valid-score = 0.7205\n",
      "=====================================================================\n",
      "Training until validation scores don't improve for 25 rounds\n",
      "[50]\tvalid_0's auc: 0.706589\tvalid_0's binary_logloss: 0.256257\n",
      "[100]\tvalid_0's auc: 0.708895\tvalid_0's binary_logloss: 0.255631\n",
      "Early stopping, best iteration is:\n",
      "[108]\tvalid_0's auc: 0.709196\tvalid_0's binary_logloss: 0.255491\n",
      "Fold: 4, train-observations = 61652, valid-observations = 15413\n",
      "train-score = 0.7378, valid-score = 0.7092\n",
      "=====================================================================\n",
      "Training until validation scores don't improve for 25 rounds\n",
      "[50]\tvalid_0's auc: 0.722656\tvalid_0's binary_logloss: 0.252758\n",
      "[100]\tvalid_0's auc: 0.722741\tvalid_0's binary_logloss: 0.251956\n",
      "Early stopping, best iteration is:\n",
      "[87]\tvalid_0's auc: 0.724\tvalid_0's binary_logloss: 0.25194\n",
      "Fold: 5, train-observations = 61652, valid-observations = 15413\n",
      "train-score = 0.7328, valid-score = 0.724\n",
      "=====================================================================\n",
      "CV-results train: 0.7332 +/- 0.004\n",
      "CV-results valid: 0.7164 +/- 0.006\n",
      "OOF-score = 0.7163\n"
     ]
    }
   ],
   "source": [
    "cv_strategy = StratifiedKFold(n_splits=5, random_state=2177)\n",
    "\n",
    "estimators, oof_score, fold_train_scores, fold_valid_scores, oof_predictions = make_cross_validation(\n",
    "    x_train, y_train, model_cv_lgb_1, params, metric=roc_auc_score, cv_strategy=cv_strategy\n",
    ")"
   ]
  },
  {
   "cell_type": "markdown",
   "metadata": {},
   "source": [
    "#### XGBoost"
   ]
  },
  {
   "cell_type": "code",
   "execution_count": 20,
   "metadata": {},
   "outputs": [],
   "source": [
    "params = {\n",
    "    \"eval_metric\": \"auc\",\n",
    "    \"verbose\": 50,\n",
    "    \"early_stopping_rounds\": 25,\n",
    "}"
   ]
  },
  {
   "cell_type": "code",
   "execution_count": 21,
   "metadata": {},
   "outputs": [],
   "source": [
    "model_xgb_1 = xgb.XGBClassifier(n_estimators=150, max_depth=4, seed=2177)\n",
    "### Model for CV\n",
    "model_cv_xgb_1 = xgb.XGBClassifier(n_estimators=150, max_depth=4, seed=2177)"
   ]
  },
  {
   "cell_type": "code",
   "execution_count": 22,
   "metadata": {
    "scrolled": true
   },
   "outputs": [
    {
     "name": "stdout",
     "output_type": "stream",
     "text": [
      "[0]\tvalidation_0-auc:0.68025\tvalidation_1-auc:0.67870\n",
      "[50]\tvalidation_0-auc:0.76648\tvalidation_1-auc:0.72654\n",
      "[54]\tvalidation_0-auc:0.76799\tvalidation_1-auc:0.72511\n"
     ]
    },
    {
     "data": {
      "text/plain": [
       "XGBClassifier(base_score=0.5, booster='gbtree', colsample_bylevel=1,\n",
       "              colsample_bynode=1, colsample_bytree=1, gamma=0, gpu_id=-1,\n",
       "              importance_type='gain', interaction_constraints='',\n",
       "              learning_rate=0.300000012, max_delta_step=0, max_depth=4,\n",
       "              min_child_weight=1, missing=nan, monotone_constraints='()',\n",
       "              n_estimators=150, n_jobs=8, num_parallel_tree=1,\n",
       "              random_state=2177, reg_alpha=0, reg_lambda=1, scale_pos_weight=1,\n",
       "              seed=2177, subsample=1, tree_method='exact',\n",
       "              validate_parameters=1, verbosity=None)"
      ]
     },
     "execution_count": 22,
     "metadata": {},
     "output_type": "execute_result"
    }
   ],
   "source": [
    "model_xgb_1.fit(x_train, y_train, \n",
    "                eval_set=[(x_train, y_train), (x_valid, y_valid)],\n",
    "                **params)"
   ]
  },
  {
   "cell_type": "code",
   "execution_count": 23,
   "metadata": {
    "scrolled": false
   },
   "outputs": [
    {
     "name": "stdout",
     "output_type": "stream",
     "text": [
      "[0]\tvalidation_0-auc:0.68041\tvalidation_1-auc:0.66638\n",
      "[50]\tvalidation_0-auc:0.77263\tvalidation_1-auc:0.71074\n",
      "[55]\tvalidation_0-auc:0.77772\tvalidation_1-auc:0.71176\n",
      "Fold: 1, train-observations = 61652, valid-observations = 15413\n",
      "train-score = 0.7556, valid-score = 0.7133\n",
      "=====================================================================\n",
      "[0]\tvalidation_0-auc:0.68161\tvalidation_1-auc:0.66728\n",
      "[50]\tvalidation_0-auc:0.76928\tvalidation_1-auc:0.71944\n",
      "[86]\tvalidation_0-auc:0.79569\tvalidation_1-auc:0.71653\n",
      "Fold: 2, train-observations = 61652, valid-observations = 15413\n",
      "train-score = 0.778, valid-score = 0.7205\n",
      "=====================================================================\n",
      "[0]\tvalidation_0-auc:0.67690\tvalidation_1-auc:0.67282\n",
      "[50]\tvalidation_0-auc:0.77462\tvalidation_1-auc:0.71844\n",
      "[57]\tvalidation_0-auc:0.77854\tvalidation_1-auc:0.71866\n",
      "Fold: 3, train-observations = 61652, valid-observations = 15413\n",
      "train-score = 0.76, valid-score = 0.7194\n",
      "=====================================================================\n",
      "[0]\tvalidation_0-auc:0.67415\tvalidation_1-auc:0.66237\n",
      "[50]\tvalidation_0-auc:0.77386\tvalidation_1-auc:0.70447\n",
      "[68]\tvalidation_0-auc:0.78514\tvalidation_1-auc:0.70435\n",
      "Fold: 4, train-observations = 61652, valid-observations = 15413\n",
      "train-score = 0.7685, valid-score = 0.7056\n",
      "=====================================================================\n",
      "[0]\tvalidation_0-auc:0.67776\tvalidation_1-auc:0.68260\n",
      "[42]\tvalidation_0-auc:0.76645\tvalidation_1-auc:0.72201\n",
      "Fold: 5, train-observations = 61652, valid-observations = 15413\n",
      "train-score = 0.7371, valid-score = 0.7254\n",
      "=====================================================================\n",
      "CV-results train: 0.7599 +/- 0.014\n",
      "CV-results valid: 0.7169 +/- 0.007\n",
      "OOF-score = 0.7163\n"
     ]
    }
   ],
   "source": [
    "cv_strategy = StratifiedKFold(n_splits=5, random_state=2177)\n",
    "\n",
    "estimators_xgb, oof_score_xgb, fold_train_scores_xgb, fold_valid_scores_xgb, oof_predictions_xgb = make_cross_validation_xgb(\n",
    "    x_train, y_train, model_cv_xgb_1, params, metric=roc_auc_score, cv_strategy=cv_strategy\n",
    ")"
   ]
  },
  {
   "cell_type": "markdown",
   "metadata": {},
   "source": [
    "## Prediction Correlation"
   ]
  },
  {
   "cell_type": "code",
   "execution_count": 24,
   "metadata": {},
   "outputs": [],
   "source": [
    "scores = pd.DataFrame({\n",
    "    \"lgbm_model\": oof_predictions,\n",
    "    \"xgb_model\": oof_predictions_xgb,\n",
    "})\n",
    "\n",
    "corr = scores.corr()"
   ]
  },
  {
   "cell_type": "code",
   "execution_count": 25,
   "metadata": {},
   "outputs": [
    {
     "data": {
      "text/html": [
       "<div>\n",
       "<style scoped>\n",
       "    .dataframe tbody tr th:only-of-type {\n",
       "        vertical-align: middle;\n",
       "    }\n",
       "\n",
       "    .dataframe tbody tr th {\n",
       "        vertical-align: top;\n",
       "    }\n",
       "\n",
       "    .dataframe thead th {\n",
       "        text-align: right;\n",
       "    }\n",
       "</style>\n",
       "<table border=\"1\" class=\"dataframe\">\n",
       "  <thead>\n",
       "    <tr style=\"text-align: right;\">\n",
       "      <th></th>\n",
       "      <th>lgbm_model</th>\n",
       "      <th>xgb_model</th>\n",
       "    </tr>\n",
       "  </thead>\n",
       "  <tbody>\n",
       "    <tr>\n",
       "      <th>0</th>\n",
       "      <td>0.081684</td>\n",
       "      <td>0.082255</td>\n",
       "    </tr>\n",
       "    <tr>\n",
       "      <th>1</th>\n",
       "      <td>0.179922</td>\n",
       "      <td>0.183026</td>\n",
       "    </tr>\n",
       "    <tr>\n",
       "      <th>2</th>\n",
       "      <td>0.040716</td>\n",
       "      <td>0.047119</td>\n",
       "    </tr>\n",
       "  </tbody>\n",
       "</table>\n",
       "</div>"
      ],
      "text/plain": [
       "   lgbm_model  xgb_model\n",
       "0    0.081684   0.082255\n",
       "1    0.179922   0.183026\n",
       "2    0.040716   0.047119"
      ]
     },
     "execution_count": 25,
     "metadata": {},
     "output_type": "execute_result"
    }
   ],
   "source": [
    "scores.head(3)"
   ]
  },
  {
   "cell_type": "code",
   "execution_count": 26,
   "metadata": {
    "scrolled": true
   },
   "outputs": [
    {
     "data": {
      "text/html": [
       "<div>\n",
       "<style scoped>\n",
       "    .dataframe tbody tr th:only-of-type {\n",
       "        vertical-align: middle;\n",
       "    }\n",
       "\n",
       "    .dataframe tbody tr th {\n",
       "        vertical-align: top;\n",
       "    }\n",
       "\n",
       "    .dataframe thead th {\n",
       "        text-align: right;\n",
       "    }\n",
       "</style>\n",
       "<table border=\"1\" class=\"dataframe\">\n",
       "  <thead>\n",
       "    <tr style=\"text-align: right;\">\n",
       "      <th></th>\n",
       "      <th>lgbm_model</th>\n",
       "      <th>xgb_model</th>\n",
       "    </tr>\n",
       "  </thead>\n",
       "  <tbody>\n",
       "    <tr>\n",
       "      <th>lgbm_model</th>\n",
       "      <td>1.000000</td>\n",
       "      <td>0.946894</td>\n",
       "    </tr>\n",
       "    <tr>\n",
       "      <th>xgb_model</th>\n",
       "      <td>0.946894</td>\n",
       "      <td>1.000000</td>\n",
       "    </tr>\n",
       "  </tbody>\n",
       "</table>\n",
       "</div>"
      ],
      "text/plain": [
       "            lgbm_model  xgb_model\n",
       "lgbm_model    1.000000   0.946894\n",
       "xgb_model     0.946894   1.000000"
      ]
     },
     "execution_count": 26,
     "metadata": {},
     "output_type": "execute_result"
    }
   ],
   "source": [
    "corr"
   ]
  },
  {
   "cell_type": "markdown",
   "metadata": {},
   "source": [
    "#### LB model"
   ]
  },
  {
   "cell_type": "code",
   "execution_count": 27,
   "metadata": {},
   "outputs": [],
   "source": [
    "results_lgbm = []\n",
    "for i in range(len(estimators)):\n",
    "    res = estimators[i].predict_proba(test_dataset[numerical_features])[:,1]\n",
    "    results_lgbm.append(res)\n",
    "    \n",
    "results_mean_lgbm = np.mean(results_lgbm, axis=0)"
   ]
  },
  {
   "cell_type": "code",
   "execution_count": 28,
   "metadata": {},
   "outputs": [],
   "source": [
    "results_xgb = []\n",
    "for i in range(len(estimators)):\n",
    "    res = estimators_xgb[i].predict_proba(test_dataset[numerical_features])[:,1]\n",
    "    results_xgb.append(res)\n",
    "    \n",
    "results_mean_xgb = np.mean(results_xgb, axis=0)"
   ]
  },
  {
   "cell_type": "code",
   "execution_count": 29,
   "metadata": {},
   "outputs": [],
   "source": [
    "scores_lb = pd.DataFrame({\n",
    "    \"lgbm_model\": results_mean_lgbm,\n",
    "    \"xgb_model\": results_mean_xgb,\n",
    "})\n",
    "\n",
    "corr_lb = scores_lb.corr()"
   ]
  },
  {
   "cell_type": "code",
   "execution_count": 30,
   "metadata": {
    "scrolled": true
   },
   "outputs": [
    {
     "data": {
      "text/html": [
       "<div>\n",
       "<style scoped>\n",
       "    .dataframe tbody tr th:only-of-type {\n",
       "        vertical-align: middle;\n",
       "    }\n",
       "\n",
       "    .dataframe tbody tr th {\n",
       "        vertical-align: top;\n",
       "    }\n",
       "\n",
       "    .dataframe thead th {\n",
       "        text-align: right;\n",
       "    }\n",
       "</style>\n",
       "<table border=\"1\" class=\"dataframe\">\n",
       "  <thead>\n",
       "    <tr style=\"text-align: right;\">\n",
       "      <th></th>\n",
       "      <th>lgbm_model</th>\n",
       "      <th>xgb_model</th>\n",
       "    </tr>\n",
       "  </thead>\n",
       "  <tbody>\n",
       "    <tr>\n",
       "      <th>lgbm_model</th>\n",
       "      <td>1.000000</td>\n",
       "      <td>0.959459</td>\n",
       "    </tr>\n",
       "    <tr>\n",
       "      <th>xgb_model</th>\n",
       "      <td>0.959459</td>\n",
       "      <td>1.000000</td>\n",
       "    </tr>\n",
       "  </tbody>\n",
       "</table>\n",
       "</div>"
      ],
      "text/plain": [
       "            lgbm_model  xgb_model\n",
       "lgbm_model    1.000000   0.959459\n",
       "xgb_model     0.959459   1.000000"
      ]
     },
     "execution_count": 30,
     "metadata": {},
     "output_type": "execute_result"
    }
   ],
   "source": [
    "corr_lb"
   ]
  },
  {
   "cell_type": "markdown",
   "metadata": {},
   "source": [
    "### Выводы\n",
    "Корреляции меньше 0.97, можем попробовать использовать модели вместе и усреднить прогноз, для улучшения надежности"
   ]
  },
  {
   "cell_type": "markdown",
   "metadata": {},
   "source": [
    "### Задание2. \n",
    "Усреднить прогнозы с помощью арифмитического среднего, геометрического среднего и усреднить ранги, сделать выводы о качестве отдельных моделей и о качестве комбинации. "
   ]
  },
  {
   "cell_type": "markdown",
   "metadata": {},
   "source": [
    "## AMean"
   ]
  },
  {
   "cell_type": "code",
   "execution_count": 31,
   "metadata": {},
   "outputs": [
    {
     "name": "stdout",
     "output_type": "stream",
     "text": [
      "Score = 0.7179\n"
     ]
    }
   ],
   "source": [
    "scores_mean = scores.mean(axis=1)\n",
    "score = roc_auc_score(y_train, scores_mean)\n",
    "print(f\"Score = {round(score, 4)}\")"
   ]
  },
  {
   "cell_type": "markdown",
   "metadata": {},
   "source": [
    "## GMean"
   ]
  },
  {
   "cell_type": "code",
   "execution_count": 32,
   "metadata": {},
   "outputs": [
    {
     "name": "stdout",
     "output_type": "stream",
     "text": [
      "Score = 0.7179\n"
     ]
    }
   ],
   "source": [
    "scores_mean = gmean(scores, axis=1)\n",
    "score = roc_auc_score(y_train, scores_mean)\n",
    "print(f\"Score = {round(score, 4)}\")"
   ]
  },
  {
   "cell_type": "markdown",
   "metadata": {},
   "source": [
    "## Rankdata"
   ]
  },
  {
   "cell_type": "code",
   "execution_count": 33,
   "metadata": {},
   "outputs": [
    {
     "name": "stdout",
     "output_type": "stream",
     "text": [
      "Score = 0.718\n"
     ]
    }
   ],
   "source": [
    "# ROC-AUC / GINI\n",
    "scores_mean = scores.rank().mean(axis=1)\n",
    "score = roc_auc_score(y_train, scores_mean)\n",
    "print(f\"Score = {round(score, 4)}\")"
   ]
  },
  {
   "cell_type": "code",
   "execution_count": 34,
   "metadata": {},
   "outputs": [
    {
     "name": "stdout",
     "output_type": "stream",
     "text": [
      "Score = 0.7178\n"
     ]
    }
   ],
   "source": [
    "scores_mean = gmean(scores.rank(), axis=1)\n",
    "score = roc_auc_score(y_train, scores_mean)\n",
    "print(f\"Score = {round(score, 4)}\")"
   ]
  },
  {
   "cell_type": "markdown",
   "metadata": {},
   "source": [
    "### Выводы\n",
    "Изменение качесва относительно доверительного интервала незначительно"
   ]
  },
  {
   "cell_type": "markdown",
   "metadata": {},
   "source": [
    "### Задание 3. \n",
    "Обучить CatBoost, получить OOF прогнозы и выполнить задание 1 для трех моделей."
   ]
  },
  {
   "cell_type": "code",
   "execution_count": 35,
   "metadata": {},
   "outputs": [],
   "source": [
    "params = {\n",
    "    \"verbose\": 50,\n",
    "    \"early_stopping_rounds\": 25,\n",
    "}"
   ]
  },
  {
   "cell_type": "code",
   "execution_count": 36,
   "metadata": {},
   "outputs": [],
   "source": [
    "model_cat_1 = cat.CatBoostClassifier(n_estimators=150, max_depth=4, eval_metric='AUC', random_seed=2177)\n",
    "### Model for CV\n",
    "model_cv_cat_1 = cat.CatBoostClassifier(n_estimators=150, max_depth=4, eval_metric='AUC', random_seed=2177)"
   ]
  },
  {
   "cell_type": "code",
   "execution_count": 37,
   "metadata": {
    "scrolled": false
   },
   "outputs": [
    {
     "name": "stdout",
     "output_type": "stream",
     "text": [
      "Learning rate set to 0.211526\n",
      "0:\ttest: 0.5690997\tbest: 0.5690997 (0)\ttotal: 186ms\tremaining: 27.7s\n",
      "50:\ttest: 0.7265643\tbest: 0.7265643 (50)\ttotal: 738ms\tremaining: 1.43s\n",
      "100:\ttest: 0.7297383\tbest: 0.7303573 (96)\ttotal: 1.31s\tremaining: 635ms\n",
      "149:\ttest: 0.7297710\tbest: 0.7315606 (131)\ttotal: 1.87s\tremaining: 0us\n",
      "\n",
      "bestTest = 0.7315605811\n",
      "bestIteration = 131\n",
      "\n",
      "Shrink model to first 132 iterations.\n"
     ]
    },
    {
     "data": {
      "text/plain": [
       "<catboost.core.CatBoostClassifier at 0x229001ad5b0>"
      ]
     },
     "execution_count": 37,
     "metadata": {},
     "output_type": "execute_result"
    }
   ],
   "source": [
    "model_cat_1.fit(x_train, y_train, \n",
    "                eval_set=(x_valid, y_valid),\n",
    "                **params)"
   ]
  },
  {
   "cell_type": "code",
   "execution_count": 38,
   "metadata": {
    "scrolled": true
   },
   "outputs": [
    {
     "name": "stdout",
     "output_type": "stream",
     "text": [
      "Learning rate set to 0.200183\n",
      "0:\ttest: 0.5658667\tbest: 0.5658667 (0)\ttotal: 11.9ms\tremaining: 1.76s\n",
      "50:\ttest: 0.7128246\tbest: 0.7129439 (48)\ttotal: 507ms\tremaining: 985ms\n",
      "Stopped by overfitting detector  (25 iterations wait)\n",
      "\n",
      "bestTest = 0.7154496536\n",
      "bestIteration = 60\n",
      "\n",
      "Shrink model to first 61 iterations.\n",
      "Fold: 1, train-observations = 61652, valid-observations = 15413\n",
      "train-score = 0.731, valid-score = 0.7154\n",
      "=====================================================================\n",
      "Learning rate set to 0.200183\n",
      "0:\ttest: 0.5697315\tbest: 0.5697315 (0)\ttotal: 11ms\tremaining: 1.64s\n",
      "50:\ttest: 0.7103282\tbest: 0.7110675 (49)\ttotal: 488ms\tremaining: 946ms\n",
      "100:\ttest: 0.7155549\tbest: 0.7157788 (83)\ttotal: 992ms\tremaining: 481ms\n",
      "Stopped by overfitting detector  (25 iterations wait)\n",
      "\n",
      "bestTest = 0.7157788175\n",
      "bestIteration = 83\n",
      "\n",
      "Shrink model to first 84 iterations.\n",
      "Fold: 2, train-observations = 61652, valid-observations = 15413\n",
      "train-score = 0.7376, valid-score = 0.7158\n",
      "=====================================================================\n",
      "Learning rate set to 0.200183\n",
      "0:\ttest: 0.5825306\tbest: 0.5825306 (0)\ttotal: 13ms\tremaining: 1.94s\n",
      "50:\ttest: 0.7188745\tbest: 0.7195849 (47)\ttotal: 515ms\tremaining: 1s\n",
      "100:\ttest: 0.7203818\tbest: 0.7205965 (90)\ttotal: 1.03s\tremaining: 501ms\n",
      "Stopped by overfitting detector  (25 iterations wait)\n",
      "\n",
      "bestTest = 0.7217836029\n",
      "bestIteration = 118\n",
      "\n",
      "Shrink model to first 119 iterations.\n",
      "Fold: 3, train-observations = 61652, valid-observations = 15413\n",
      "train-score = 0.7452, valid-score = 0.7218\n",
      "=====================================================================\n",
      "Learning rate set to 0.200183\n",
      "0:\ttest: 0.6140465\tbest: 0.6140465 (0)\ttotal: 10.4ms\tremaining: 1.54s\n",
      "50:\ttest: 0.7053496\tbest: 0.7053496 (50)\ttotal: 494ms\tremaining: 958ms\n",
      "100:\ttest: 0.7080541\tbest: 0.7091335 (88)\ttotal: 1.03s\tremaining: 498ms\n",
      "Stopped by overfitting detector  (25 iterations wait)\n",
      "\n",
      "bestTest = 0.7091334667\n",
      "bestIteration = 88\n",
      "\n",
      "Shrink model to first 89 iterations.\n",
      "Fold: 4, train-observations = 61652, valid-observations = 15413\n",
      "train-score = 0.7401, valid-score = 0.7091\n",
      "=====================================================================\n",
      "Learning rate set to 0.200183\n",
      "0:\ttest: 0.5765695\tbest: 0.5765695 (0)\ttotal: 11.2ms\tremaining: 1.67s\n",
      "50:\ttest: 0.7229119\tbest: 0.7231263 (45)\ttotal: 548ms\tremaining: 1.06s\n",
      "100:\ttest: 0.7245134\tbest: 0.7252705 (90)\ttotal: 1.05s\tremaining: 511ms\n",
      "Stopped by overfitting detector  (25 iterations wait)\n",
      "\n",
      "bestTest = 0.7252704777\n",
      "bestIteration = 90\n",
      "\n",
      "Shrink model to first 91 iterations.\n",
      "Fold: 5, train-observations = 61652, valid-observations = 15413\n",
      "train-score = 0.7418, valid-score = 0.7253\n",
      "=====================================================================\n",
      "CV-results train: 0.7391 +/- 0.005\n",
      "CV-results valid: 0.7175 +/- 0.006\n",
      "OOF-score = 0.7174\n"
     ]
    }
   ],
   "source": [
    "cv_strategy = StratifiedKFold(n_splits=5, random_state=2177)\n",
    "\n",
    "estimators_cat, oof_score_cat, fold_train_scores_cat, fold_valid_scores_cat, oof_predictions_cat = make_cross_validation(\n",
    "    x_train, y_train, model_cv_cat_1, params, metric=roc_auc_score, cv_strategy=cv_strategy\n",
    ")"
   ]
  },
  {
   "cell_type": "markdown",
   "metadata": {},
   "source": [
    "## Prediction Correlation"
   ]
  },
  {
   "cell_type": "code",
   "execution_count": 39,
   "metadata": {},
   "outputs": [],
   "source": [
    "scores = pd.DataFrame({\n",
    "    \"lgbm_model\": oof_predictions,\n",
    "    \"xgb_model\": oof_predictions_xgb,\n",
    "    \"cat_model\": oof_predictions_cat,\n",
    "})\n",
    "\n",
    "corr = scores.corr()"
   ]
  },
  {
   "cell_type": "code",
   "execution_count": 40,
   "metadata": {},
   "outputs": [
    {
     "data": {
      "text/html": [
       "<div>\n",
       "<style scoped>\n",
       "    .dataframe tbody tr th:only-of-type {\n",
       "        vertical-align: middle;\n",
       "    }\n",
       "\n",
       "    .dataframe tbody tr th {\n",
       "        vertical-align: top;\n",
       "    }\n",
       "\n",
       "    .dataframe thead th {\n",
       "        text-align: right;\n",
       "    }\n",
       "</style>\n",
       "<table border=\"1\" class=\"dataframe\">\n",
       "  <thead>\n",
       "    <tr style=\"text-align: right;\">\n",
       "      <th></th>\n",
       "      <th>lgbm_model</th>\n",
       "      <th>xgb_model</th>\n",
       "      <th>cat_model</th>\n",
       "    </tr>\n",
       "  </thead>\n",
       "  <tbody>\n",
       "    <tr>\n",
       "      <th>0</th>\n",
       "      <td>0.081684</td>\n",
       "      <td>0.082255</td>\n",
       "      <td>0.081649</td>\n",
       "    </tr>\n",
       "    <tr>\n",
       "      <th>1</th>\n",
       "      <td>0.179922</td>\n",
       "      <td>0.183026</td>\n",
       "      <td>0.187839</td>\n",
       "    </tr>\n",
       "    <tr>\n",
       "      <th>2</th>\n",
       "      <td>0.040716</td>\n",
       "      <td>0.047119</td>\n",
       "      <td>0.058775</td>\n",
       "    </tr>\n",
       "  </tbody>\n",
       "</table>\n",
       "</div>"
      ],
      "text/plain": [
       "   lgbm_model  xgb_model  cat_model\n",
       "0    0.081684   0.082255   0.081649\n",
       "1    0.179922   0.183026   0.187839\n",
       "2    0.040716   0.047119   0.058775"
      ]
     },
     "execution_count": 40,
     "metadata": {},
     "output_type": "execute_result"
    }
   ],
   "source": [
    "scores.head(3)"
   ]
  },
  {
   "cell_type": "code",
   "execution_count": 41,
   "metadata": {
    "scrolled": true
   },
   "outputs": [
    {
     "data": {
      "text/html": [
       "<div>\n",
       "<style scoped>\n",
       "    .dataframe tbody tr th:only-of-type {\n",
       "        vertical-align: middle;\n",
       "    }\n",
       "\n",
       "    .dataframe tbody tr th {\n",
       "        vertical-align: top;\n",
       "    }\n",
       "\n",
       "    .dataframe thead th {\n",
       "        text-align: right;\n",
       "    }\n",
       "</style>\n",
       "<table border=\"1\" class=\"dataframe\">\n",
       "  <thead>\n",
       "    <tr style=\"text-align: right;\">\n",
       "      <th></th>\n",
       "      <th>lgbm_model</th>\n",
       "      <th>xgb_model</th>\n",
       "      <th>cat_model</th>\n",
       "    </tr>\n",
       "  </thead>\n",
       "  <tbody>\n",
       "    <tr>\n",
       "      <th>lgbm_model</th>\n",
       "      <td>1.000000</td>\n",
       "      <td>0.946894</td>\n",
       "      <td>0.958154</td>\n",
       "    </tr>\n",
       "    <tr>\n",
       "      <th>xgb_model</th>\n",
       "      <td>0.946894</td>\n",
       "      <td>1.000000</td>\n",
       "      <td>0.928445</td>\n",
       "    </tr>\n",
       "    <tr>\n",
       "      <th>cat_model</th>\n",
       "      <td>0.958154</td>\n",
       "      <td>0.928445</td>\n",
       "      <td>1.000000</td>\n",
       "    </tr>\n",
       "  </tbody>\n",
       "</table>\n",
       "</div>"
      ],
      "text/plain": [
       "            lgbm_model  xgb_model  cat_model\n",
       "lgbm_model    1.000000   0.946894   0.958154\n",
       "xgb_model     0.946894   1.000000   0.928445\n",
       "cat_model     0.958154   0.928445   1.000000"
      ]
     },
     "execution_count": 41,
     "metadata": {},
     "output_type": "execute_result"
    }
   ],
   "source": [
    "corr"
   ]
  },
  {
   "cell_type": "markdown",
   "metadata": {},
   "source": [
    "#### LB model"
   ]
  },
  {
   "cell_type": "code",
   "execution_count": 42,
   "metadata": {},
   "outputs": [],
   "source": [
    "results_lgbm = []\n",
    "for i in range(len(estimators)):\n",
    "    res = estimators[i].predict_proba(test_dataset[numerical_features])[:,1]\n",
    "    results_lgbm.append(res)\n",
    "    \n",
    "results_mean_lgbm = np.mean(results_lgbm, axis=0)"
   ]
  },
  {
   "cell_type": "code",
   "execution_count": 43,
   "metadata": {},
   "outputs": [],
   "source": [
    "results_xgb = []\n",
    "for i in range(len(estimators)):\n",
    "    res = estimators_xgb[i].predict_proba(test_dataset[numerical_features])[:,1]\n",
    "    results_xgb.append(res)\n",
    "    \n",
    "results_mean_xgb = np.mean(results_xgb, axis=0)"
   ]
  },
  {
   "cell_type": "code",
   "execution_count": 44,
   "metadata": {},
   "outputs": [],
   "source": [
    "results_cat = []\n",
    "for i in range(len(estimators)):\n",
    "    res = estimators_cat[i].predict_proba(test_dataset[numerical_features])[:,1]\n",
    "    results_cat.append(res)\n",
    "    \n",
    "results_mean_cat = np.mean(results_cat, axis=0)"
   ]
  },
  {
   "cell_type": "code",
   "execution_count": 45,
   "metadata": {},
   "outputs": [],
   "source": [
    "scores_lb = pd.DataFrame({\n",
    "    \"lgbm_model\": results_mean_lgbm,\n",
    "    \"xgb_model\": results_mean_xgb,\n",
    "    \"cat_model\": results_mean_cat,\n",
    "})\n",
    "\n",
    "corr_lb = scores_lb.corr()"
   ]
  },
  {
   "cell_type": "code",
   "execution_count": 46,
   "metadata": {
    "scrolled": true
   },
   "outputs": [
    {
     "data": {
      "text/html": [
       "<div>\n",
       "<style scoped>\n",
       "    .dataframe tbody tr th:only-of-type {\n",
       "        vertical-align: middle;\n",
       "    }\n",
       "\n",
       "    .dataframe tbody tr th {\n",
       "        vertical-align: top;\n",
       "    }\n",
       "\n",
       "    .dataframe thead th {\n",
       "        text-align: right;\n",
       "    }\n",
       "</style>\n",
       "<table border=\"1\" class=\"dataframe\">\n",
       "  <thead>\n",
       "    <tr style=\"text-align: right;\">\n",
       "      <th></th>\n",
       "      <th>lgbm_model</th>\n",
       "      <th>xgb_model</th>\n",
       "      <th>cat_model</th>\n",
       "    </tr>\n",
       "  </thead>\n",
       "  <tbody>\n",
       "    <tr>\n",
       "      <th>lgbm_model</th>\n",
       "      <td>1.000000</td>\n",
       "      <td>0.959459</td>\n",
       "      <td>0.959763</td>\n",
       "    </tr>\n",
       "    <tr>\n",
       "      <th>xgb_model</th>\n",
       "      <td>0.959459</td>\n",
       "      <td>1.000000</td>\n",
       "      <td>0.931339</td>\n",
       "    </tr>\n",
       "    <tr>\n",
       "      <th>cat_model</th>\n",
       "      <td>0.959763</td>\n",
       "      <td>0.931339</td>\n",
       "      <td>1.000000</td>\n",
       "    </tr>\n",
       "  </tbody>\n",
       "</table>\n",
       "</div>"
      ],
      "text/plain": [
       "            lgbm_model  xgb_model  cat_model\n",
       "lgbm_model    1.000000   0.959459   0.959763\n",
       "xgb_model     0.959459   1.000000   0.931339\n",
       "cat_model     0.959763   0.931339   1.000000"
      ]
     },
     "execution_count": 46,
     "metadata": {},
     "output_type": "execute_result"
    }
   ],
   "source": [
    "corr_lb"
   ]
  },
  {
   "cell_type": "markdown",
   "metadata": {},
   "source": [
    "### Выводы\n",
    "Корреляции меньше 0.97, можем попробовать использовать модели вместе и усреднить прогноз, для улучшения надежности"
   ]
  },
  {
   "cell_type": "markdown",
   "metadata": {},
   "source": [
    "### Задание 4. \n",
    "Выполнить задание 2 для трех моделей."
   ]
  },
  {
   "cell_type": "markdown",
   "metadata": {},
   "source": [
    "## AMean"
   ]
  },
  {
   "cell_type": "code",
   "execution_count": 47,
   "metadata": {},
   "outputs": [
    {
     "name": "stdout",
     "output_type": "stream",
     "text": [
      "Score = 0.7192\n"
     ]
    }
   ],
   "source": [
    "scores_mean = scores.mean(axis=1)\n",
    "score = roc_auc_score(y_train, scores_mean)\n",
    "print(f\"Score = {round(score, 4)}\")"
   ]
  },
  {
   "cell_type": "markdown",
   "metadata": {},
   "source": [
    "## GMean"
   ]
  },
  {
   "cell_type": "code",
   "execution_count": 48,
   "metadata": {},
   "outputs": [
    {
     "name": "stdout",
     "output_type": "stream",
     "text": [
      "Score = 0.7192\n"
     ]
    }
   ],
   "source": [
    "scores_mean = gmean(scores, axis=1)\n",
    "score = roc_auc_score(y_train, scores_mean)\n",
    "print(f\"Score = {round(score, 4)}\")"
   ]
  },
  {
   "cell_type": "markdown",
   "metadata": {},
   "source": [
    "## Rankdata"
   ]
  },
  {
   "cell_type": "code",
   "execution_count": 49,
   "metadata": {},
   "outputs": [
    {
     "name": "stdout",
     "output_type": "stream",
     "text": [
      "Score = 0.7193\n"
     ]
    }
   ],
   "source": [
    "# ROC-AUC / GINI\n",
    "scores_mean = scores.rank().mean(axis=1)\n",
    "score = roc_auc_score(y_train, scores_mean)\n",
    "print(f\"Score = {round(score, 4)}\")"
   ]
  },
  {
   "cell_type": "code",
   "execution_count": 50,
   "metadata": {},
   "outputs": [
    {
     "name": "stdout",
     "output_type": "stream",
     "text": [
      "Score = 0.7192\n"
     ]
    }
   ],
   "source": [
    "scores_mean = gmean(scores.rank(), axis=1)\n",
    "score = roc_auc_score(y_train, scores_mean)\n",
    "print(f\"Score = {round(score, 4)}\")"
   ]
  },
  {
   "cell_type": "markdown",
   "metadata": {},
   "source": [
    "### Выводы\n",
    "Изменение качесва относительно доверительного интервала незначительно"
   ]
  },
  {
   "cell_type": "markdown",
   "metadata": {},
   "source": [
    "### Задание 5. \n",
    "(опция) Объединить OOF-прогнозы для трех моделей и обучить алгоритм Логистической регрессии (и любой другой, на ваше усмотрение). Сделать выводы о достигаемом качестве, сравнить достигаемое качество с качеством отдельных моделей и моделей, полученных в п.2 и п.4."
   ]
  },
  {
   "cell_type": "code",
   "execution_count": 51,
   "metadata": {},
   "outputs": [],
   "source": [
    "params = {\n",
    "    \"eval_metric\": \"auc\",\n",
    "    \"verbose\": None,\n",
    "}"
   ]
  },
  {
   "cell_type": "code",
   "execution_count": 52,
   "metadata": {},
   "outputs": [
    {
     "data": {
      "text/plain": [
       "87"
      ]
     },
     "execution_count": 52,
     "metadata": {},
     "output_type": "execute_result"
    }
   ],
   "source": [
    "# LightGBM\n",
    "n_estimators = int((46 + 100 + 98 + 108 + 87) / 5)\n",
    "n_estimators"
   ]
  },
  {
   "cell_type": "code",
   "execution_count": 53,
   "metadata": {},
   "outputs": [],
   "source": [
    "model_cv_lgb_2 = lgb.LGBMClassifier(n_estimators=n_estimators, num_leaves=5, seed=2177)"
   ]
  },
  {
   "cell_type": "code",
   "execution_count": 54,
   "metadata": {
    "scrolled": true
   },
   "outputs": [
    {
     "name": "stdout",
     "output_type": "stream",
     "text": [
      "Fold: 1, train-observations = 61652, valid-observations = 15413\n",
      "train-score = 0.7333, valid-score = 0.7112\n",
      "=====================================================================\n",
      "Fold: 2, train-observations = 61652, valid-observations = 15413\n",
      "train-score = 0.7329, valid-score = 0.7186\n",
      "=====================================================================\n",
      "Fold: 3, train-observations = 61652, valid-observations = 15413\n",
      "train-score = 0.7336, valid-score = 0.7197\n",
      "=====================================================================\n",
      "Fold: 4, train-observations = 61652, valid-observations = 15413\n",
      "train-score = 0.7347, valid-score = 0.7085\n",
      "=====================================================================\n",
      "Fold: 5, train-observations = 61652, valid-observations = 15413\n",
      "train-score = 0.7328, valid-score = 0.724\n",
      "=====================================================================\n",
      "CV-results train: 0.7334 +/- 0.001\n",
      "CV-results valid: 0.7164 +/- 0.006\n",
      "OOF-score = 0.7163\n"
     ]
    }
   ],
   "source": [
    "cv_strategy = StratifiedKFold(n_splits=5, random_state=2177)\n",
    "\n",
    "estimators, oof_score, fold_train_scores, fold_valid_scores, oof_predictions = make_cross_validation(\n",
    "    x_train, y_train, model_cv_lgb_2, params, metric=roc_auc_score, cv_strategy=cv_strategy\n",
    ")"
   ]
  },
  {
   "cell_type": "code",
   "execution_count": 55,
   "metadata": {},
   "outputs": [
    {
     "data": {
      "text/plain": [
       "61"
      ]
     },
     "execution_count": 55,
     "metadata": {},
     "output_type": "execute_result"
    }
   ],
   "source": [
    "# XGBoost\n",
    "n_estimators = int((55 + 86 + 56 + 69 + 41) / 5)\n",
    "n_estimators"
   ]
  },
  {
   "cell_type": "code",
   "execution_count": 56,
   "metadata": {},
   "outputs": [],
   "source": [
    "model_cv_xgb_2 = xgb.XGBClassifier(n_estimators=n_estimators, max_depth=4, seed=2177)"
   ]
  },
  {
   "cell_type": "code",
   "execution_count": 57,
   "metadata": {
    "scrolled": false
   },
   "outputs": [
    {
     "name": "stdout",
     "output_type": "stream",
     "text": [
      "Fold: 1, train-observations = 61652, valid-observations = 15413\n",
      "train-score = 0.7812, valid-score = 0.7111\n",
      "=====================================================================\n",
      "Fold: 2, train-observations = 61652, valid-observations = 15413\n",
      "train-score = 0.7766, valid-score = 0.7196\n",
      "=====================================================================\n",
      "Fold: 3, train-observations = 61652, valid-observations = 15413\n",
      "train-score = 0.781, valid-score = 0.7179\n",
      "=====================================================================\n",
      "Fold: 4, train-observations = 61652, valid-observations = 15413\n",
      "train-score = 0.7817, valid-score = 0.7041\n",
      "=====================================================================\n",
      "Fold: 5, train-observations = 61652, valid-observations = 15413\n",
      "train-score = 0.7845, valid-score = 0.7213\n",
      "=====================================================================\n",
      "CV-results train: 0.781 +/- 0.003\n",
      "CV-results valid: 0.7148 +/- 0.006\n",
      "OOF-score = 0.7146\n"
     ]
    }
   ],
   "source": [
    "cv_strategy = StratifiedKFold(n_splits=5, random_state=2177)\n",
    "\n",
    "estimators_xgb, oof_score_xgb, fold_train_scores_xgb, fold_valid_scores_xgb, oof_predictions_xgb = make_cross_validation_xgb(\n",
    "    x_train, y_train, model_cv_xgb_2, params, metric=roc_auc_score, cv_strategy=cv_strategy\n",
    ")"
   ]
  },
  {
   "cell_type": "code",
   "execution_count": 58,
   "metadata": {},
   "outputs": [
    {
     "data": {
      "text/plain": [
       "87"
      ]
     },
     "execution_count": 58,
     "metadata": {},
     "output_type": "execute_result"
    }
   ],
   "source": [
    "# CatBoost\n",
    "n_estimators = int((60 + 83 + 118 + 88 + 90) / 5)\n",
    "n_estimators"
   ]
  },
  {
   "cell_type": "code",
   "execution_count": 59,
   "metadata": {},
   "outputs": [],
   "source": [
    "model_cv_cat_2 = cat.CatBoostClassifier(n_estimators=n_estimators, max_depth=4, eval_metric='AUC', verbose=100, random_seed=2177)"
   ]
  },
  {
   "cell_type": "code",
   "execution_count": 60,
   "metadata": {
    "scrolled": true
   },
   "outputs": [
    {
     "name": "stdout",
     "output_type": "stream",
     "text": [
      "Learning rate set to 0.253709\n",
      "0:\ttest: 0.5658667\tbest: 0.5658667 (0)\ttotal: 10.4ms\tremaining: 891ms\n",
      "86:\ttest: 0.7207433\tbest: 0.7209550 (85)\ttotal: 877ms\tremaining: 0us\n",
      "\n",
      "bestTest = 0.7209549838\n",
      "bestIteration = 85\n",
      "\n",
      "Shrink model to first 86 iterations.\n",
      "Fold: 1, train-observations = 61652, valid-observations = 15413\n",
      "train-score = 0.7419, valid-score = 0.721\n",
      "=====================================================================\n",
      "Learning rate set to 0.253709\n",
      "0:\ttest: 0.5697315\tbest: 0.5697315 (0)\ttotal: 10.5ms\tremaining: 907ms\n",
      "86:\ttest: 0.7174335\tbest: 0.7180556 (81)\ttotal: 860ms\tremaining: 0us\n",
      "\n",
      "bestTest = 0.7180555895\n",
      "bestIteration = 81\n",
      "\n",
      "Shrink model to first 82 iterations.\n",
      "Fold: 2, train-observations = 61652, valid-observations = 15413\n",
      "train-score = 0.7412, valid-score = 0.7181\n",
      "=====================================================================\n",
      "Learning rate set to 0.253709\n",
      "0:\ttest: 0.5825306\tbest: 0.5825306 (0)\ttotal: 10.4ms\tremaining: 897ms\n",
      "86:\ttest: 0.7207241\tbest: 0.7219784 (80)\ttotal: 909ms\tremaining: 0us\n",
      "\n",
      "bestTest = 0.7219784456\n",
      "bestIteration = 80\n",
      "\n",
      "Shrink model to first 81 iterations.\n",
      "Fold: 3, train-observations = 61652, valid-observations = 15413\n",
      "train-score = 0.7413, valid-score = 0.722\n",
      "=====================================================================\n",
      "Learning rate set to 0.253709\n",
      "0:\ttest: 0.6140465\tbest: 0.6140465 (0)\ttotal: 10.3ms\tremaining: 888ms\n",
      "86:\ttest: 0.7054037\tbest: 0.7075237 (62)\ttotal: 862ms\tremaining: 0us\n",
      "\n",
      "bestTest = 0.7075237468\n",
      "bestIteration = 62\n",
      "\n",
      "Shrink model to first 63 iterations.\n",
      "Fold: 4, train-observations = 61652, valid-observations = 15413\n",
      "train-score = 0.7371, valid-score = 0.7075\n",
      "=====================================================================\n",
      "Learning rate set to 0.253709\n",
      "0:\ttest: 0.5765695\tbest: 0.5765695 (0)\ttotal: 11ms\tremaining: 945ms\n",
      "86:\ttest: 0.7223897\tbest: 0.7231125 (67)\ttotal: 845ms\tremaining: 0us\n",
      "\n",
      "bestTest = 0.7231124542\n",
      "bestIteration = 67\n",
      "\n",
      "Shrink model to first 68 iterations.\n",
      "Fold: 5, train-observations = 61652, valid-observations = 15413\n",
      "train-score = 0.7375, valid-score = 0.7231\n",
      "=====================================================================\n",
      "CV-results train: 0.7398 +/- 0.002\n",
      "CV-results valid: 0.7183 +/- 0.006\n",
      "OOF-score = 0.7182\n"
     ]
    }
   ],
   "source": [
    "cv_strategy = StratifiedKFold(n_splits=5, random_state=2177)\n",
    "\n",
    "estimators_cat, oof_score_cat, fold_train_scores_cat, fold_valid_scores_cat, oof_predictions_cat = make_cross_validation(\n",
    "    x_train, y_train, model_cv_cat_2, {}, metric=roc_auc_score, cv_strategy=cv_strategy\n",
    ")"
   ]
  },
  {
   "cell_type": "code",
   "execution_count": 61,
   "metadata": {},
   "outputs": [],
   "source": [
    "scores_lvl_2 = pd.DataFrame({\n",
    "    \"lgbm_model\": oof_predictions,\n",
    "    \"xgb_model\": oof_predictions_xgb,\n",
    "    \"cat_model\": oof_predictions_cat,\n",
    "})"
   ]
  },
  {
   "cell_type": "markdown",
   "metadata": {},
   "source": [
    "### Level 2"
   ]
  },
  {
   "cell_type": "code",
   "execution_count": 62,
   "metadata": {},
   "outputs": [],
   "source": [
    "x_train_LR, x_valid_LR = train_test_split(\n",
    "    scores_lvl_2, train_size=0.7, shuffle=True, random_state=2177\n",
    ")\n",
    "y_train_LR, y_valid_LR = train_test_split(\n",
    "    y_train, train_size=0.7, shuffle=True, random_state=2177\n",
    ")"
   ]
  },
  {
   "cell_type": "code",
   "execution_count": 63,
   "metadata": {},
   "outputs": [],
   "source": [
    "# 'liblinear', 'newton-cg', 'sag', 'saga' and 'lbfgs'\n",
    "model_level2_logreg = LogisticRegression(max_iter=100, solver='lbfgs', random_state=2177)"
   ]
  },
  {
   "cell_type": "code",
   "execution_count": 64,
   "metadata": {},
   "outputs": [
    {
     "data": {
      "text/plain": [
       "LogisticRegression(random_state=2177)"
      ]
     },
     "execution_count": 64,
     "metadata": {},
     "output_type": "execute_result"
    }
   ],
   "source": [
    "model_level2_logreg.fit(x_train_LR, y_train_LR)"
   ]
  },
  {
   "cell_type": "code",
   "execution_count": 65,
   "metadata": {},
   "outputs": [],
   "source": [
    "preds_logreg = model_level2_logreg.predict_proba(x_valid_LR)"
   ]
  },
  {
   "cell_type": "code",
   "execution_count": 66,
   "metadata": {},
   "outputs": [
    {
     "name": "stdout",
     "output_type": "stream",
     "text": [
      "LogReg Score = 0.7172\n"
     ]
    }
   ],
   "source": [
    "print(f\"LogReg Score = {round(roc_auc_score(y_valid_LR, preds_logreg[:, 1]), 4)}\")"
   ]
  },
  {
   "cell_type": "markdown",
   "metadata": {},
   "source": [
    "#### XGBoost lvl 2"
   ]
  },
  {
   "cell_type": "code",
   "execution_count": 67,
   "metadata": {},
   "outputs": [],
   "source": [
    "model_level2_xgb = xgb.XGBClassifier(n_estimators=10, max_depth=2, seed=2177)"
   ]
  },
  {
   "cell_type": "code",
   "execution_count": 68,
   "metadata": {
    "scrolled": true
   },
   "outputs": [
    {
     "name": "stdout",
     "output_type": "stream",
     "text": [
      "[19:45:20] WARNING: C:/Users/Administrator/workspace/xgboost-win64_release_1.3.0/src/learner.cc:1061: Starting in XGBoost 1.3.0, the default evaluation metric used with the objective 'binary:logistic' was changed from 'error' to 'logloss'. Explicitly set eval_metric if you'd like to restore the old behavior.\n"
     ]
    },
    {
     "data": {
      "text/plain": [
       "XGBClassifier(base_score=0.5, booster='gbtree', colsample_bylevel=1,\n",
       "              colsample_bynode=1, colsample_bytree=1, gamma=0, gpu_id=-1,\n",
       "              importance_type='gain', interaction_constraints='',\n",
       "              learning_rate=0.300000012, max_delta_step=0, max_depth=2,\n",
       "              min_child_weight=1, missing=nan, monotone_constraints='()',\n",
       "              n_estimators=10, n_jobs=8, num_parallel_tree=1, random_state=2177,\n",
       "              reg_alpha=0, reg_lambda=1, scale_pos_weight=1, seed=2177,\n",
       "              subsample=1, tree_method='exact', validate_parameters=1,\n",
       "              verbosity=None)"
      ]
     },
     "execution_count": 68,
     "metadata": {},
     "output_type": "execute_result"
    }
   ],
   "source": [
    "model_level2_xgb.fit(x_train_LR, y_train_LR)"
   ]
  },
  {
   "cell_type": "code",
   "execution_count": 69,
   "metadata": {},
   "outputs": [],
   "source": [
    "preds_level2_xgb = model_level2_xgb.predict_proba(x_valid_LR)"
   ]
  },
  {
   "cell_type": "code",
   "execution_count": 70,
   "metadata": {},
   "outputs": [
    {
     "data": {
      "text/plain": [
       "array([[0.800344  , 0.199656  ],\n",
       "       [0.8827884 , 0.11721157],\n",
       "       [0.8303318 , 0.1696682 ],\n",
       "       ...,\n",
       "       [0.8969073 , 0.10309266],\n",
       "       [0.9641369 , 0.03586308],\n",
       "       [0.95394504, 0.04605493]], dtype=float32)"
      ]
     },
     "execution_count": 70,
     "metadata": {},
     "output_type": "execute_result"
    }
   ],
   "source": [
    "preds_level2_xgb"
   ]
  },
  {
   "cell_type": "code",
   "execution_count": 71,
   "metadata": {
    "scrolled": true
   },
   "outputs": [
    {
     "name": "stdout",
     "output_type": "stream",
     "text": [
      "XGB Score = 0.7148\n"
     ]
    }
   ],
   "source": [
    "print(f\"XGB Score = {round(roc_auc_score(y_valid_LR, preds_level2_xgb[:, 1]), 4)}\")"
   ]
  },
  {
   "cell_type": "markdown",
   "metadata": {},
   "source": [
    "### Выводы\n",
    "Результат не сильно отличается от предыдущего"
   ]
  },
  {
   "cell_type": "markdown",
   "metadata": {},
   "source": [
    "### Задание 6. \n",
    "(опция) Обучить алгоритм RandomForest (желательно подтюнить параметры) и добавить к построенным ранее моделям. Выполнить задание 5."
   ]
  },
  {
   "cell_type": "code",
   "execution_count": 72,
   "metadata": {},
   "outputs": [],
   "source": [
    "def make_cross_validation_rfc(X: pd.DataFrame,\n",
    "                              y: pd.Series,\n",
    "                              estimator: object,\n",
    "                              params: dict,\n",
    "                              metric: callable,\n",
    "                              cv_strategy):\n",
    "    \"\"\"\n",
    "    Кросс-валидация.\n",
    "\n",
    "    Parameters\n",
    "    ----------\n",
    "    X: pd.DataFrame\n",
    "        Матрица признаков.\n",
    "\n",
    "    y: pd.Series\n",
    "        Вектор целевой переменной.\n",
    "\n",
    "    estimator: callable\n",
    "        Объект модели для обучения.\n",
    "        \n",
    "    paprams: dict\n",
    "        Параметры модели\n",
    "\n",
    "    metric: callable\n",
    "        Метрика для оценки качества решения.\n",
    "        Ожидается, что на вход будет передана функция,\n",
    "        которая принимает 2 аргумента: y_true, y_pred.\n",
    "\n",
    "    cv_strategy: cross-validation generator\n",
    "        Объект для описания стратегии кросс-валидации.\n",
    "        Ожидается, что на вход будет передан объект типа\n",
    "        KFold или StratifiedKFold.\n",
    "\n",
    "    Returns\n",
    "    -------\n",
    "    oof_score: float\n",
    "        Значение метрики качества на OOF-прогнозах.\n",
    "\n",
    "    fold_train_scores: List[float]\n",
    "        Значение метрики качества на каждом обучающем датасете кросс-валидации.\n",
    "\n",
    "    fold_valid_scores: List[float]\n",
    "        Значение метрики качества на каждом валидационном датасете кросс-валидации.\n",
    "\n",
    "    oof_predictions: np.array\n",
    "        Прогнозы на OOF.\n",
    "\n",
    "    \"\"\"\n",
    "    estimators, fold_train_scores, fold_valid_scores = [], [], []\n",
    "    oof_predictions = np.zeros(X.shape[0])\n",
    "    X = X.reindex()\n",
    "    y = y.reindex()\n",
    "\n",
    "    for fold_number, (train_idx, valid_idx) in enumerate(cv_strategy.split(X, y)):\n",
    "        x_train, x_valid = X.iloc[train_idx], X.iloc[valid_idx]\n",
    "        y_train, y_valid = y.iloc[train_idx], y.iloc[valid_idx]\n",
    "\n",
    "        estimator.fit(x_train, y_train)\n",
    "        y_train_pred = estimator.predict_proba(x_train)[:,1]\n",
    "        y_valid_pred = estimator.predict_proba(x_valid)[:,1]\n",
    "\n",
    "        fold_train_scores.append(metric(y_train, y_train_pred))\n",
    "        fold_valid_scores.append(metric(y_valid, y_valid_pred))\n",
    "        oof_predictions[valid_idx] = y_valid_pred\n",
    "\n",
    "        msg = (\n",
    "            f\"Fold: {fold_number+1}, train-observations = {len(train_idx)}, \"\n",
    "            f\"valid-observations = {len(valid_idx)}\\n\"\n",
    "            f\"train-score = {round(fold_train_scores[fold_number], 4)}, \"\n",
    "            f\"valid-score = {round(fold_valid_scores[fold_number], 4)}\" \n",
    "        )\n",
    "        print(msg)\n",
    "        print(\"=\"*69)\n",
    "        estimators.append(estimator)\n",
    "\n",
    "    oof_score = metric(y, oof_predictions)\n",
    "    print(f\"CV-results train: {round(np.mean(fold_train_scores), 4)} +/- {round(np.std(fold_train_scores), 3)}\")\n",
    "    print(f\"CV-results valid: {round(np.mean(fold_valid_scores), 4)} +/- {round(np.std(fold_valid_scores), 3)}\")\n",
    "    print(f\"OOF-score = {round(oof_score, 4)}\")\n",
    "\n",
    "    return estimators, oof_score, fold_train_scores, fold_valid_scores, oof_predictions"
   ]
  },
  {
   "cell_type": "code",
   "execution_count": 73,
   "metadata": {},
   "outputs": [],
   "source": [
    "x_train_for_rfc = x_train.copy()\n",
    "x_valid_for_rfc = x_valid.copy()"
   ]
  },
  {
   "cell_type": "code",
   "execution_count": 74,
   "metadata": {},
   "outputs": [],
   "source": [
    "x_train_for_rfc = x_train_for_rfc.fillna(value=0)\n",
    "x_valid_for_rfc = x_valid_for_rfc.fillna(value=0)"
   ]
  },
  {
   "cell_type": "code",
   "execution_count": 75,
   "metadata": {},
   "outputs": [],
   "source": [
    "model_cv_rfc_2 = RandomForestClassifier(n_estimators=60,\n",
    "                                        max_depth=5,\n",
    "                                        min_samples_split=2,\n",
    "                                        min_samples_leaf=1,\n",
    "                                        min_weight_fraction_leaf=0,\n",
    "                                        random_state=2177)"
   ]
  },
  {
   "cell_type": "code",
   "execution_count": 76,
   "metadata": {
    "scrolled": false
   },
   "outputs": [
    {
     "name": "stdout",
     "output_type": "stream",
     "text": [
      "Fold: 1, train-observations = 61652, valid-observations = 15413\n",
      "train-score = 0.7223, valid-score = 0.7037\n",
      "=====================================================================\n",
      "Fold: 2, train-observations = 61652, valid-observations = 15413\n",
      "train-score = 0.7228, valid-score = 0.6933\n",
      "=====================================================================\n",
      "Fold: 3, train-observations = 61652, valid-observations = 15413\n",
      "train-score = 0.7219, valid-score = 0.707\n",
      "=====================================================================\n",
      "Fold: 4, train-observations = 61652, valid-observations = 15413\n",
      "train-score = 0.7264, valid-score = 0.693\n",
      "=====================================================================\n",
      "Fold: 5, train-observations = 61652, valid-observations = 15413\n",
      "train-score = 0.7193, valid-score = 0.7098\n",
      "=====================================================================\n",
      "CV-results train: 0.7225 +/- 0.002\n",
      "CV-results valid: 0.7014 +/- 0.007\n",
      "OOF-score = 0.7014\n"
     ]
    }
   ],
   "source": [
    "cv_strategy = StratifiedKFold(n_splits=5, random_state=2177)\n",
    "\n",
    "estimators_rfc, oof_score_rfc, fold_train_scores_rfc, fold_valid_scores_rfc, oof_predictions_rfc = make_cross_validation_rfc(\n",
    "    x_train_for_rfc, y_train, model_cv_rfc_2, {}, metric=roc_auc_score, cv_strategy=cv_strategy\n",
    ")"
   ]
  },
  {
   "cell_type": "code",
   "execution_count": 77,
   "metadata": {},
   "outputs": [
    {
     "data": {
      "text/plain": [
       "RandomForestClassifier(max_depth=5, min_weight_fraction_leaf=0, n_estimators=60,\n",
       "                       random_state=2177)"
      ]
     },
     "execution_count": 77,
     "metadata": {},
     "output_type": "execute_result"
    }
   ],
   "source": [
    "model_cv_rfc_2.fit(x_train_for_rfc, y_train)"
   ]
  },
  {
   "cell_type": "code",
   "execution_count": 78,
   "metadata": {},
   "outputs": [],
   "source": [
    "train_scores, valid_scores = [], []\n",
    "train_predictions = np.zeros(shape=(x_train_for_rfc.shape[0], model_cv_rfc_2.n_estimators))\n",
    "valid_predictions = np.zeros(shape=(x_valid_for_rfc.shape[0], model_cv_rfc_2.n_estimators))\n",
    "\n",
    "for num, estimator in enumerate(model_cv_rfc_2.estimators_):\n",
    "    train_predictions[:, num] = estimator.predict_proba(x_train_for_rfc)[:, 1]\n",
    "    valid_predictions[:, num] = estimator.predict_proba(x_valid_for_rfc)[:, 1]"
   ]
  },
  {
   "cell_type": "code",
   "execution_count": 79,
   "metadata": {},
   "outputs": [],
   "source": [
    "train_predictions = np.cumsum(train_predictions, axis=1) / np.arange(1, train_predictions.shape[1]+1)\n",
    "valid_predictions = np.cumsum(valid_predictions, axis=1) / np.arange(1, valid_predictions.shape[1]+1)"
   ]
  },
  {
   "cell_type": "code",
   "execution_count": 80,
   "metadata": {},
   "outputs": [],
   "source": [
    "train_scores = [\n",
    "    roc_auc_score(y_train, train_predictions[:, num]) for num in range(train_predictions.shape[1])\n",
    "]\n",
    "valid_scores = [\n",
    "    roc_auc_score(y_valid, valid_predictions[:, num]) for num in range(valid_predictions.shape[1])\n",
    "]"
   ]
  },
  {
   "cell_type": "code",
   "execution_count": 81,
   "metadata": {},
   "outputs": [
    {
     "data": {
      "text/plain": [
       "(0.0, 60.0)"
      ]
     },
     "execution_count": 81,
     "metadata": {},
     "output_type": "execute_result"
    },
    {
     "data": {
      "image/png": "[encoded data removed]",
      "text/plain": [
       "<Figure size 864x504 with 1 Axes>"
      ]
     },
     "metadata": {
      "needs_background": "light"
     },
     "output_type": "display_data"
    }
   ],
   "source": [
    "fig = plt.figure(figsize=(12, 7))\n",
    "\n",
    "plt.title(\"Find best n_trees for RandomForestClassifier\", size=15)\n",
    "plt.plot(train_scores, linewidth=3, label=\"train-score\", color=\"blue\")\n",
    "plt.plot(valid_scores, linewidth=3, label=\"valid-score\", color=\"orange\")\n",
    "plt.xlabel(\"n_trees\", size=15)\n",
    "plt.ylabel(\"ROC-AUC\", size=15)\n",
    "plt.xlim(0, len(train_scores))"
   ]
  },
  {
   "cell_type": "code",
   "execution_count": 82,
   "metadata": {},
   "outputs": [],
   "source": [
    "scores_lvl_2 = pd.DataFrame({\n",
    "    \"lgbm_model\": oof_predictions,\n",
    "    \"xgb_model\": oof_predictions_xgb,\n",
    "    \"cat_model\": oof_predictions_cat,\n",
    "    \"rfc_model\": oof_predictions_rfc,\n",
    "})\n",
    "\n",
    "corr_lb = scores_lvl_2.corr()"
   ]
  },
  {
   "cell_type": "code",
   "execution_count": 83,
   "metadata": {},
   "outputs": [
    {
     "data": {
      "text/html": [
       "<div>\n",
       "<style scoped>\n",
       "    .dataframe tbody tr th:only-of-type {\n",
       "        vertical-align: middle;\n",
       "    }\n",
       "\n",
       "    .dataframe tbody tr th {\n",
       "        vertical-align: top;\n",
       "    }\n",
       "\n",
       "    .dataframe thead th {\n",
       "        text-align: right;\n",
       "    }\n",
       "</style>\n",
       "<table border=\"1\" class=\"dataframe\">\n",
       "  <thead>\n",
       "    <tr style=\"text-align: right;\">\n",
       "      <th></th>\n",
       "      <th>lgbm_model</th>\n",
       "      <th>xgb_model</th>\n",
       "      <th>cat_model</th>\n",
       "      <th>rfc_model</th>\n",
       "    </tr>\n",
       "  </thead>\n",
       "  <tbody>\n",
       "    <tr>\n",
       "      <th>lgbm_model</th>\n",
       "      <td>1.000000</td>\n",
       "      <td>0.928553</td>\n",
       "      <td>0.952672</td>\n",
       "      <td>0.857879</td>\n",
       "    </tr>\n",
       "    <tr>\n",
       "      <th>xgb_model</th>\n",
       "      <td>0.928553</td>\n",
       "      <td>1.000000</td>\n",
       "      <td>0.915806</td>\n",
       "      <td>0.795022</td>\n",
       "    </tr>\n",
       "    <tr>\n",
       "      <th>cat_model</th>\n",
       "      <td>0.952672</td>\n",
       "      <td>0.915806</td>\n",
       "      <td>1.000000</td>\n",
       "      <td>0.853868</td>\n",
       "    </tr>\n",
       "    <tr>\n",
       "      <th>rfc_model</th>\n",
       "      <td>0.857879</td>\n",
       "      <td>0.795022</td>\n",
       "      <td>0.853868</td>\n",
       "      <td>1.000000</td>\n",
       "    </tr>\n",
       "  </tbody>\n",
       "</table>\n",
       "</div>"
      ],
      "text/plain": [
       "            lgbm_model  xgb_model  cat_model  rfc_model\n",
       "lgbm_model    1.000000   0.928553   0.952672   0.857879\n",
       "xgb_model     0.928553   1.000000   0.915806   0.795022\n",
       "cat_model     0.952672   0.915806   1.000000   0.853868\n",
       "rfc_model     0.857879   0.795022   0.853868   1.000000"
      ]
     },
     "execution_count": 83,
     "metadata": {},
     "output_type": "execute_result"
    }
   ],
   "source": [
    "corr_lb"
   ]
  },
  {
   "cell_type": "markdown",
   "metadata": {},
   "source": [
    "### Level 2"
   ]
  },
  {
   "cell_type": "code",
   "execution_count": 84,
   "metadata": {},
   "outputs": [],
   "source": [
    "x_train_LR, x_valid_LR = train_test_split(\n",
    "    scores_lvl_2, train_size=0.7, shuffle=True, random_state=2177\n",
    ")\n",
    "y_train_LR, y_valid_LR = train_test_split(\n",
    "    y_train, train_size=0.7, shuffle=True, random_state=2177\n",
    ")"
   ]
  },
  {
   "cell_type": "code",
   "execution_count": 85,
   "metadata": {},
   "outputs": [],
   "source": [
    "# 'liblinear', 'newton-cg', 'sag', 'saga' and 'lbfgs'\n",
    "model_level2_logreg = LogisticRegression(max_iter=100, solver='lbfgs', random_state=2177)"
   ]
  },
  {
   "cell_type": "code",
   "execution_count": 86,
   "metadata": {},
   "outputs": [
    {
     "data": {
      "text/plain": [
       "LogisticRegression(random_state=2177)"
      ]
     },
     "execution_count": 86,
     "metadata": {},
     "output_type": "execute_result"
    }
   ],
   "source": [
    "model_level2_logreg.fit(x_train_LR, y_train_LR)"
   ]
  },
  {
   "cell_type": "code",
   "execution_count": 87,
   "metadata": {},
   "outputs": [],
   "source": [
    "preds_logreg = model_level2_logreg.predict_proba(x_valid_LR)"
   ]
  },
  {
   "cell_type": "code",
   "execution_count": 88,
   "metadata": {},
   "outputs": [
    {
     "name": "stdout",
     "output_type": "stream",
     "text": [
      "LogReg Score = 0.7153\n"
     ]
    }
   ],
   "source": [
    "print(f\"LogReg Score = {round(roc_auc_score(y_valid_LR, preds_logreg[:, 1]), 4)}\")"
   ]
  },
  {
   "cell_type": "markdown",
   "metadata": {},
   "source": [
    "#### XGBoost lvl 2"
   ]
  },
  {
   "cell_type": "code",
   "execution_count": 89,
   "metadata": {},
   "outputs": [],
   "source": [
    "model_level2_xgb = xgb.XGBClassifier(n_estimators=10, max_depth=2, seed=2177)"
   ]
  },
  {
   "cell_type": "code",
   "execution_count": 90,
   "metadata": {
    "scrolled": true
   },
   "outputs": [
    {
     "name": "stdout",
     "output_type": "stream",
     "text": [
      "[19:45:34] WARNING: C:/Users/Administrator/workspace/xgboost-win64_release_1.3.0/src/learner.cc:1061: Starting in XGBoost 1.3.0, the default evaluation metric used with the objective 'binary:logistic' was changed from 'error' to 'logloss'. Explicitly set eval_metric if you'd like to restore the old behavior.\n"
     ]
    },
    {
     "data": {
      "text/plain": [
       "XGBClassifier(base_score=0.5, booster='gbtree', colsample_bylevel=1,\n",
       "              colsample_bynode=1, colsample_bytree=1, gamma=0, gpu_id=-1,\n",
       "              importance_type='gain', interaction_constraints='',\n",
       "              learning_rate=0.300000012, max_delta_step=0, max_depth=2,\n",
       "              min_child_weight=1, missing=nan, monotone_constraints='()',\n",
       "              n_estimators=10, n_jobs=8, num_parallel_tree=1, random_state=2177,\n",
       "              reg_alpha=0, reg_lambda=1, scale_pos_weight=1, seed=2177,\n",
       "              subsample=1, tree_method='exact', validate_parameters=1,\n",
       "              verbosity=None)"
      ]
     },
     "execution_count": 90,
     "metadata": {},
     "output_type": "execute_result"
    }
   ],
   "source": [
    "model_level2_xgb.fit(x_train_LR, y_train_LR)"
   ]
  },
  {
   "cell_type": "code",
   "execution_count": 91,
   "metadata": {},
   "outputs": [],
   "source": [
    "preds_level2_xgb = model_level2_xgb.predict_proba(x_valid_LR)"
   ]
  },
  {
   "cell_type": "code",
   "execution_count": 92,
   "metadata": {
    "scrolled": true
   },
   "outputs": [
    {
     "name": "stdout",
     "output_type": "stream",
     "text": [
      "XGB Score = 0.7147\n"
     ]
    }
   ],
   "source": [
    "print(f\"XGB Score = {round(roc_auc_score(y_valid_LR, preds_level2_xgb[:, 1]), 4)}\")"
   ]
  },
  {
   "cell_type": "markdown",
   "metadata": {},
   "source": [
    "### Выводы\n",
    "Результат не сильно отличается от предыдущего, хотя корреляции с Random forest ниже чем между другими, т.е.  стабильность должна возрасти"
   ]
  },
  {
   "cell_type": "code",
   "execution_count": null,
   "metadata": {},
   "outputs": [],
   "source": []
  }
 ],
 "metadata": {
  "kernelspec": {
   "display_name": "Python 3",
   "language": "python",
   "name": "python3"
  },
  "language_info": {
   "codemirror_mode": {
    "name": "ipython",
    "version": 3
   },
   "file_extension": ".py",
   "mimetype": "text/x-python",
   "name": "python",
   "nbconvert_exporter": "python",
   "pygments_lexer": "ipython3",
   "version": "3.8.5"
  }
 },
 "nbformat": 4,
 "nbformat_minor": 4
}
